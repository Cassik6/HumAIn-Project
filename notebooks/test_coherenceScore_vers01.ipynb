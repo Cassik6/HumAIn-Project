{
 "cells": [
  {
   "cell_type": "markdown",
   "metadata": {},
   "source": [
    "# Non-Negative Matric Factorization\n",
    "\n",
    "Let's repeat the topic modeling task from the previous lecture, but this time, we will use NMF instead of LDA.\n",
    "https://www.kaggle.com/akashram/topic-modeling-intro-implementation"
   ]
  },
  {
   "cell_type": "markdown",
   "metadata": {},
   "source": [
    "## Step 1: loading data\n",
    "\n",
    "We will be using articles scraped from NPR (National Public Radio), obtained from their website [www.npr.org](http://www.npr.org)"
   ]
  },
  {
   "cell_type": "code",
   "execution_count": 1,
   "metadata": {},
   "outputs": [],
   "source": [
    "# Importing modules\n",
    "import pandas as pd\n",
    "import os\n",
    "\n",
    "import json "
   ]
  },
  {
   "cell_type": "code",
   "execution_count": 2,
   "metadata": {},
   "outputs": [
    {
     "name": "stdout",
     "output_type": "stream",
     "text": [
      "/home/christopheschellinck/Documents/Projects/project_NLP_humain/testing_files\n"
     ]
    }
   ],
   "source": [
    "# os.chdir('..')\n",
    "\n",
    "cwd = os.getcwd()\n",
    "print(cwd)"
   ]
  },
  {
   "cell_type": "code",
   "execution_count": 3,
   "metadata": {},
   "outputs": [],
   "source": [
    "with open(\"../news_data.json\", \"r\") as f:\n",
    "    papers10 = json.load(f)"
   ]
  },
  {
   "cell_type": "code",
   "execution_count": 4,
   "metadata": {},
   "outputs": [],
   "source": [
    "from pandas.io.json import json_normalize"
   ]
  },
  {
   "cell_type": "code",
   "execution_count": 5,
   "metadata": {},
   "outputs": [],
   "source": [
    "papers = pd.json_normalize(papers10[\"data\"])"
   ]
  },
  {
   "cell_type": "code",
   "execution_count": 6,
   "metadata": {},
   "outputs": [
    {
     "data": {
      "text/html": [
       "<div>\n",
       "<style scoped>\n",
       "    .dataframe tbody tr th:only-of-type {\n",
       "        vertical-align: middle;\n",
       "    }\n",
       "\n",
       "    .dataframe tbody tr th {\n",
       "        vertical-align: top;\n",
       "    }\n",
       "\n",
       "    .dataframe thead th {\n",
       "        text-align: right;\n",
       "    }\n",
       "</style>\n",
       "<table border=\"1\" class=\"dataframe\">\n",
       "  <thead>\n",
       "    <tr style=\"text-align: right;\">\n",
       "      <th></th>\n",
       "      <th>id</th>\n",
       "      <th>title</th>\n",
       "      <th>summary</th>\n",
       "      <th>authors</th>\n",
       "      <th>tags</th>\n",
       "      <th>text</th>\n",
       "      <th>url</th>\n",
       "      <th>source</th>\n",
       "      <th>created_at</th>\n",
       "      <th>updated_at</th>\n",
       "      <th>author</th>\n",
       "      <th>date</th>\n",
       "    </tr>\n",
       "  </thead>\n",
       "  <tbody>\n",
       "    <tr>\n",
       "      <th>0</th>\n",
       "      <td>10813</td>\n",
       "      <td>ZingBox aims for ‘Internet of Trusted Things’,...</td>\n",
       "      <td>Cybersecurity provider ZingBox has announced t...</td>\n",
       "      <td>None</td>\n",
       "      <td>device\\niot\\nguardian\\napproach\\ndevices\\nindu...</td>\n",
       "      <td>Cybersecurity provider ZingBox has announced t...</td>\n",
       "      <td>https://artificialintelligence-news.com/2017/0...</td>\n",
       "      <td>AInews</td>\n",
       "      <td>2020-02-05T17:08:34.343Z</td>\n",
       "      <td>2020-02-05T17:08:34.343Z</td>\n",
       "      <td>James Bourne</td>\n",
       "      <td>2017-04-25</td>\n",
       "    </tr>\n",
       "    <tr>\n",
       "      <th>1</th>\n",
       "      <td>10814</td>\n",
       "      <td>AI may help create more sustainable data centres</td>\n",
       "      <td>Enterprise data centre provider Aegis Data arg...</td>\n",
       "      <td>None</td>\n",
       "      <td>data\\ncentre\\nnatural\\nnew\\ntechnology\\nindust...</td>\n",
       "      <td>Enterprise data centre provider Aegis Data arg...</td>\n",
       "      <td>https://artificialintelligence-news.com/2017/0...</td>\n",
       "      <td>AInews</td>\n",
       "      <td>2020-02-05T17:08:34.355Z</td>\n",
       "      <td>2020-02-05T17:08:34.355Z</td>\n",
       "      <td>James Bourne</td>\n",
       "      <td>2017-04-25</td>\n",
       "    </tr>\n",
       "    <tr>\n",
       "      <th>2</th>\n",
       "      <td>10815</td>\n",
       "      <td>Why a potential trillion dollar B2B bots indus...</td>\n",
       "      <td>From Domino’s Pizza, to Uber, to Bank of Ameri...</td>\n",
       "      <td>None</td>\n",
       "      <td>next\\nbig\\ngupshup\\none\\nbusiness\\ntech\\nimpac...</td>\n",
       "      <td>From Domino’s Pizza, to Uber, to Bank of Ameri...</td>\n",
       "      <td>https://artificialintelligence-news.com/2017/0...</td>\n",
       "      <td>AInews</td>\n",
       "      <td>2020-02-05T17:08:34.365Z</td>\n",
       "      <td>2020-02-05T17:08:34.365Z</td>\n",
       "      <td>James Bourne</td>\n",
       "      <td>2017-04-25</td>\n",
       "    </tr>\n",
       "    <tr>\n",
       "      <th>3</th>\n",
       "      <td>10816</td>\n",
       "      <td>Why companies investing in AI today should exp...</td>\n",
       "      <td>Organisations investing in artificial intellig...</td>\n",
       "      <td>None</td>\n",
       "      <td>ai\\norganisations\\nindustry\\nemployees\\nexpo\\n...</td>\n",
       "      <td>Organisations investing in artificial intellig...</td>\n",
       "      <td>https://artificialintelligence-news.com/2017/0...</td>\n",
       "      <td>AInews</td>\n",
       "      <td>2020-02-05T17:08:34.375Z</td>\n",
       "      <td>2020-02-05T17:08:34.375Z</td>\n",
       "      <td>James Bourne</td>\n",
       "      <td>2017-04-25</td>\n",
       "    </tr>\n",
       "    <tr>\n",
       "      <th>4</th>\n",
       "      <td>10817</td>\n",
       "      <td>Tencent gears up for greater GPU acceleration ...</td>\n",
       "      <td>Tencent’s cloud computing services will be bee...</td>\n",
       "      <td>None</td>\n",
       "      <td>gpu\\naccelerators\\ngpus\\ncloud\\nservices\\ntesl...</td>\n",
       "      <td>Tencent’s cloud computing services will be bee...</td>\n",
       "      <td>https://artificialintelligence-news.com/2017/0...</td>\n",
       "      <td>AInews</td>\n",
       "      <td>2020-02-05T17:08:34.385Z</td>\n",
       "      <td>2020-02-05T17:08:34.385Z</td>\n",
       "      <td>James Bourne</td>\n",
       "      <td>2017-04-26</td>\n",
       "    </tr>\n",
       "  </tbody>\n",
       "</table>\n",
       "</div>"
      ],
      "text/plain": [
       "      id                                              title  \\\n",
       "0  10813  ZingBox aims for ‘Internet of Trusted Things’,...   \n",
       "1  10814   AI may help create more sustainable data centres   \n",
       "2  10815  Why a potential trillion dollar B2B bots indus...   \n",
       "3  10816  Why companies investing in AI today should exp...   \n",
       "4  10817  Tencent gears up for greater GPU acceleration ...   \n",
       "\n",
       "                                             summary authors  \\\n",
       "0  Cybersecurity provider ZingBox has announced t...    None   \n",
       "1  Enterprise data centre provider Aegis Data arg...    None   \n",
       "2  From Domino’s Pizza, to Uber, to Bank of Ameri...    None   \n",
       "3  Organisations investing in artificial intellig...    None   \n",
       "4  Tencent’s cloud computing services will be bee...    None   \n",
       "\n",
       "                                                tags  \\\n",
       "0  device\\niot\\nguardian\\napproach\\ndevices\\nindu...   \n",
       "1  data\\ncentre\\nnatural\\nnew\\ntechnology\\nindust...   \n",
       "2  next\\nbig\\ngupshup\\none\\nbusiness\\ntech\\nimpac...   \n",
       "3  ai\\norganisations\\nindustry\\nemployees\\nexpo\\n...   \n",
       "4  gpu\\naccelerators\\ngpus\\ncloud\\nservices\\ntesl...   \n",
       "\n",
       "                                                text  \\\n",
       "0  Cybersecurity provider ZingBox has announced t...   \n",
       "1  Enterprise data centre provider Aegis Data arg...   \n",
       "2  From Domino’s Pizza, to Uber, to Bank of Ameri...   \n",
       "3  Organisations investing in artificial intellig...   \n",
       "4  Tencent’s cloud computing services will be bee...   \n",
       "\n",
       "                                                 url  source  \\\n",
       "0  https://artificialintelligence-news.com/2017/0...  AInews   \n",
       "1  https://artificialintelligence-news.com/2017/0...  AInews   \n",
       "2  https://artificialintelligence-news.com/2017/0...  AInews   \n",
       "3  https://artificialintelligence-news.com/2017/0...  AInews   \n",
       "4  https://artificialintelligence-news.com/2017/0...  AInews   \n",
       "\n",
       "                 created_at                updated_at        author  \\\n",
       "0  2020-02-05T17:08:34.343Z  2020-02-05T17:08:34.343Z  James Bourne   \n",
       "1  2020-02-05T17:08:34.355Z  2020-02-05T17:08:34.355Z  James Bourne   \n",
       "2  2020-02-05T17:08:34.365Z  2020-02-05T17:08:34.365Z  James Bourne   \n",
       "3  2020-02-05T17:08:34.375Z  2020-02-05T17:08:34.375Z  James Bourne   \n",
       "4  2020-02-05T17:08:34.385Z  2020-02-05T17:08:34.385Z  James Bourne   \n",
       "\n",
       "         date  \n",
       "0  2017-04-25  \n",
       "1  2017-04-25  \n",
       "2  2017-04-25  \n",
       "3  2017-04-25  \n",
       "4  2017-04-26  "
      ]
     },
     "execution_count": 6,
     "metadata": {},
     "output_type": "execute_result"
    }
   ],
   "source": [
    "papers.head()"
   ]
  },
  {
   "cell_type": "code",
   "execution_count": 7,
   "metadata": {},
   "outputs": [
    {
     "data": {
      "text/plain": [
       "Index(['id', 'title', 'summary', 'authors', 'tags', 'text', 'url', 'source',\n",
       "       'created_at', 'updated_at', 'author', 'date'],\n",
       "      dtype='object')"
      ]
     },
     "execution_count": 7,
     "metadata": {},
     "output_type": "execute_result"
    }
   ],
   "source": [
    "papers.columns"
   ]
  },
  {
   "cell_type": "code",
   "execution_count": 8,
   "metadata": {},
   "outputs": [
    {
     "data": {
      "text/plain": [
       "(1626, 12)"
      ]
     },
     "execution_count": 8,
     "metadata": {},
     "output_type": "execute_result"
    }
   ],
   "source": [
    "papers.shape"
   ]
  },
  {
   "cell_type": "code",
   "execution_count": 9,
   "metadata": {},
   "outputs": [
    {
     "data": {
      "text/plain": [
       "1199    Your ship crash-lands on an alien world. To ge...\n",
       "Name: text, dtype: object"
      ]
     },
     "execution_count": 9,
     "metadata": {},
     "output_type": "execute_result"
    }
   ],
   "source": [
    "papers.sample(1).text"
   ]
  },
  {
   "cell_type": "markdown",
   "metadata": {},
   "source": [
    "Notice how we don't have the topic of the articles! Let's use LDA to attempt to figure out clusters of the articles."
   ]
  },
  {
   "cell_type": "markdown",
   "metadata": {},
   "source": [
    "## Step 2: Data cleaning"
   ]
  },
  {
   "cell_type": "code",
   "execution_count": 10,
   "metadata": {},
   "outputs": [],
   "source": [
    "papers1 = papers"
   ]
  },
  {
   "cell_type": "code",
   "execution_count": null,
   "metadata": {},
   "outputs": [],
   "source": []
  },
  {
   "cell_type": "code",
   "execution_count": 11,
   "metadata": {},
   "outputs": [
    {
     "data": {
      "text/html": [
       "<div>\n",
       "<style scoped>\n",
       "    .dataframe tbody tr th:only-of-type {\n",
       "        vertical-align: middle;\n",
       "    }\n",
       "\n",
       "    .dataframe tbody tr th {\n",
       "        vertical-align: top;\n",
       "    }\n",
       "\n",
       "    .dataframe thead th {\n",
       "        text-align: right;\n",
       "    }\n",
       "</style>\n",
       "<table border=\"1\" class=\"dataframe\">\n",
       "  <thead>\n",
       "    <tr style=\"text-align: right;\">\n",
       "      <th></th>\n",
       "      <th>id</th>\n",
       "      <th>title</th>\n",
       "      <th>summary</th>\n",
       "      <th>tags</th>\n",
       "      <th>text</th>\n",
       "    </tr>\n",
       "  </thead>\n",
       "  <tbody>\n",
       "    <tr>\n",
       "      <th>0</th>\n",
       "      <td>10813</td>\n",
       "      <td>ZingBox aims for ‘Internet of Trusted Things’,...</td>\n",
       "      <td>Cybersecurity provider ZingBox has announced t...</td>\n",
       "      <td>device\\niot\\nguardian\\napproach\\ndevices\\nindu...</td>\n",
       "      <td>Cybersecurity provider ZingBox has announced t...</td>\n",
       "    </tr>\n",
       "    <tr>\n",
       "      <th>1</th>\n",
       "      <td>10814</td>\n",
       "      <td>AI may help create more sustainable data centres</td>\n",
       "      <td>Enterprise data centre provider Aegis Data arg...</td>\n",
       "      <td>data\\ncentre\\nnatural\\nnew\\ntechnology\\nindust...</td>\n",
       "      <td>Enterprise data centre provider Aegis Data arg...</td>\n",
       "    </tr>\n",
       "    <tr>\n",
       "      <th>2</th>\n",
       "      <td>10815</td>\n",
       "      <td>Why a potential trillion dollar B2B bots indus...</td>\n",
       "      <td>From Domino’s Pizza, to Uber, to Bank of Ameri...</td>\n",
       "      <td>next\\nbig\\ngupshup\\none\\nbusiness\\ntech\\nimpac...</td>\n",
       "      <td>From Domino’s Pizza, to Uber, to Bank of Ameri...</td>\n",
       "    </tr>\n",
       "    <tr>\n",
       "      <th>3</th>\n",
       "      <td>10816</td>\n",
       "      <td>Why companies investing in AI today should exp...</td>\n",
       "      <td>Organisations investing in artificial intellig...</td>\n",
       "      <td>ai\\norganisations\\nindustry\\nemployees\\nexpo\\n...</td>\n",
       "      <td>Organisations investing in artificial intellig...</td>\n",
       "    </tr>\n",
       "    <tr>\n",
       "      <th>4</th>\n",
       "      <td>10817</td>\n",
       "      <td>Tencent gears up for greater GPU acceleration ...</td>\n",
       "      <td>Tencent’s cloud computing services will be bee...</td>\n",
       "      <td>gpu\\naccelerators\\ngpus\\ncloud\\nservices\\ntesl...</td>\n",
       "      <td>Tencent’s cloud computing services will be bee...</td>\n",
       "    </tr>\n",
       "  </tbody>\n",
       "</table>\n",
       "</div>"
      ],
      "text/plain": [
       "      id                                              title  \\\n",
       "0  10813  ZingBox aims for ‘Internet of Trusted Things’,...   \n",
       "1  10814   AI may help create more sustainable data centres   \n",
       "2  10815  Why a potential trillion dollar B2B bots indus...   \n",
       "3  10816  Why companies investing in AI today should exp...   \n",
       "4  10817  Tencent gears up for greater GPU acceleration ...   \n",
       "\n",
       "                                             summary  \\\n",
       "0  Cybersecurity provider ZingBox has announced t...   \n",
       "1  Enterprise data centre provider Aegis Data arg...   \n",
       "2  From Domino’s Pizza, to Uber, to Bank of Ameri...   \n",
       "3  Organisations investing in artificial intellig...   \n",
       "4  Tencent’s cloud computing services will be bee...   \n",
       "\n",
       "                                                tags  \\\n",
       "0  device\\niot\\nguardian\\napproach\\ndevices\\nindu...   \n",
       "1  data\\ncentre\\nnatural\\nnew\\ntechnology\\nindust...   \n",
       "2  next\\nbig\\ngupshup\\none\\nbusiness\\ntech\\nimpac...   \n",
       "3  ai\\norganisations\\nindustry\\nemployees\\nexpo\\n...   \n",
       "4  gpu\\naccelerators\\ngpus\\ncloud\\nservices\\ntesl...   \n",
       "\n",
       "                                                text  \n",
       "0  Cybersecurity provider ZingBox has announced t...  \n",
       "1  Enterprise data centre provider Aegis Data arg...  \n",
       "2  From Domino’s Pizza, to Uber, to Bank of Ameri...  \n",
       "3  Organisations investing in artificial intellig...  \n",
       "4  Tencent’s cloud computing services will be bee...  "
      ]
     },
     "execution_count": 11,
     "metadata": {},
     "output_type": "execute_result"
    }
   ],
   "source": [
    "# Remove the columns\n",
    "papers2 = papers1.drop(columns=['authors', 'url', 'source', 'created_at', 'updated_at', 'author', 'date'], axis=1, inplace = False)\n",
    "\n",
    "# Print out the first rows of papers\n",
    "papers2.head()\n"
   ]
  },
  {
   "cell_type": "code",
   "execution_count": 12,
   "metadata": {},
   "outputs": [
    {
     "data": {
      "text/plain": [
       "(1626, 5)"
      ]
     },
     "execution_count": 12,
     "metadata": {},
     "output_type": "execute_result"
    }
   ],
   "source": [
    "papers2.shape"
   ]
  },
  {
   "cell_type": "markdown",
   "metadata": {},
   "source": [
    "### Applying regex"
   ]
  },
  {
   "cell_type": "code",
   "execution_count": 13,
   "metadata": {},
   "outputs": [
    {
     "data": {
      "text/plain": [
       "0    cybersecurity provider zingbox has announced t...\n",
       "1    enterprise data centre provider aegis data arg...\n",
       "2    from domino’s pizza to uber to bank of america...\n",
       "3    organisations investing in artificial intellig...\n",
       "4    tencent’s cloud computing services will be bee...\n",
       "Name: text_preprocessed, dtype: object"
      ]
     },
     "execution_count": 13,
     "metadata": {},
     "output_type": "execute_result"
    }
   ],
   "source": [
    "# Load the regular expression library\n",
    "import re\n",
    "\n",
    "# Remove punctuation\n",
    "papers2['text_preprocessed'] = \\\n",
    "papers2['text'].map(lambda x: re.sub('\\s+', ' ', x))\n",
    "\n",
    "papers2['text_preprocessed'] = \\\n",
    "papers2['text_preprocessed'].map(lambda x: re.sub('[\\n]', ' ', x))\n",
    "\n",
    "papers2['text_preprocessed'] = \\\n",
    "papers2['text_preprocessed'].map(lambda x: re.sub('[\\']', '', x))\n",
    "\n",
    "papers2['text_preprocessed'] = \\\n",
    "papers2['text_preprocessed'].map(lambda x: re.sub('[,\\.!?]', '', x))\n",
    "\n",
    "# Convert the titles to lowercase\n",
    "papers2['text_preprocessed'] = \\\n",
    "papers2['text_preprocessed'].map(lambda x: x.lower())\n",
    "\n",
    "# Print out the first rows of papers\n",
    "papers2['text_preprocessed'].head()"
   ]
  },
  {
   "cell_type": "markdown",
   "metadata": {},
   "source": [
    "### Applying lemmatization"
   ]
  },
  {
   "cell_type": "code",
   "execution_count": 14,
   "metadata": {},
   "outputs": [],
   "source": [
    "# Perform standard imports:\n",
    "import spacy\n"
   ]
  },
  {
   "cell_type": "markdown",
   "metadata": {},
   "source": [
    "### spaCy preparation for lemmatization"
   ]
  },
  {
   "cell_type": "code",
   "execution_count": 15,
   "metadata": {},
   "outputs": [],
   "source": [
    "nlp_en_core_web_sm = spacy.load('en_core_web_sm')"
   ]
  },
  {
   "cell_type": "code",
   "execution_count": 16,
   "metadata": {},
   "outputs": [],
   "source": [
    "def lemmatizing_article(line):\n",
    "    \n",
    "    string = ''\n",
    "    list1 = []\n",
    "    doc = nlp_en_core_web_sm(line)\n",
    "    for token in doc:\n",
    "        #string = ''.join(token.lemma_)\n",
    "        list1.append(token.lemma_)\n",
    "    \n",
    "    return list1"
   ]
  },
  {
   "cell_type": "code",
   "execution_count": 17,
   "metadata": {},
   "outputs": [],
   "source": [
    "papers2['text_lemmatized'] = \\\n",
    "papers2['text_preprocessed'].apply(lambda x: lemmatizing_article(x))"
   ]
  },
  {
   "cell_type": "code",
   "execution_count": 18,
   "metadata": {},
   "outputs": [
    {
     "name": "stdout",
     "output_type": "stream",
     "text": [
      "       id                                              title  \\\n",
      "0   10813  ZingBox aims for ‘Internet of Trusted Things’,...   \n",
      "1   10814   AI may help create more sustainable data centres   \n",
      "2   10815  Why a potential trillion dollar B2B bots indus...   \n",
      "3   10816  Why companies investing in AI today should exp...   \n",
      "4   10817  Tencent gears up for greater GPU acceleration ...   \n",
      "5   10818  Bonsai launches Early Access Program to help e...   \n",
      "6   10819  AI falls on the final furlong in predicting Ke...   \n",
      "7   10820  Most Britons want AI to support at least part ...   \n",
      "8   10821  Medicine, law and IT may be affected by the ri...   \n",
      "9   10822  Cisco acquires AI firm MindMeld to create more...   \n",
      "10  10823  University of Cambridge bolsters AI research e...   \n",
      "11  10824  Cray launches two new CS-Storm accelerated clu...   \n",
      "12  10825  UNICEF joins Apple, Google, Facebook et al in ...   \n",
      "13  10826  New intelligent street light software aims to ...   \n",
      "14  10827  Cylance launches first claimed AI-driven endpo...   \n",
      "15  10828  People.ai grabs $7 million funding to launch w...   \n",
      "16  10829  Here’s how AI can assist medical science in te...   \n",
      "17  10830  CrowdFlower raises $20 million in venture fund...   \n",
      "18  10831  CognitiveScale raises $50 million to bring in ...   \n",
      "19  10832  IEEE examines prospects of ‘generation AI’ thr...   \n",
      "\n",
      "                                              summary  \\\n",
      "0   Cybersecurity provider ZingBox has announced t...   \n",
      "1   Enterprise data centre provider Aegis Data arg...   \n",
      "2   From Domino’s Pizza, to Uber, to Bank of Ameri...   \n",
      "3   Organisations investing in artificial intellig...   \n",
      "4   Tencent’s cloud computing services will be bee...   \n",
      "5   US-based Bonsai is set to engage enterprises a...   \n",
      "6   The Kentucky Derby, one of the three races whi...   \n",
      "7   A new survey commissioned by the UC EXPO event...   \n",
      "8   Gartner has given a tentative guideline of 202...   \n",
      "9   Cisco has announced its intent to acquire Mind...   \n",
      "10  The Leverhulme Centre for the Future of Intell...   \n",
      "11  Cray has launched two new CS-Storm accelerated...   \n",
      "12  UNICEF has announced it has joined Partnership...   \n",
      "13  TCS Digital Software & Solutions Group, part o...   \n",
      "14  Australia-based Cylance has announced the gene...   \n",
      "15  People.ai has received $7 million in Series A ...   \n",
      "16  Artificial intelligence (AI) and deep learning...   \n",
      "17  San Francisco-based crowdsourcing firm CrowdFl...   \n",
      "18  CognitiveScale has announced it has raised an ...   \n",
      "19  A new report from the IEEE has shed light on w...   \n",
      "\n",
      "                                                 tags  \\\n",
      "0   device\\niot\\nguardian\\napproach\\ndevices\\nindu...   \n",
      "1   data\\ncentre\\nnatural\\nnew\\ntechnology\\nindust...   \n",
      "2   next\\nbig\\ngupshup\\none\\nbusiness\\ntech\\nimpac...   \n",
      "3   ai\\norganisations\\nindustry\\nemployees\\nexpo\\n...   \n",
      "4   gpu\\naccelerators\\ngpus\\ncloud\\nservices\\ntesl...   \n",
      "5   early\\naccess\\nprogram\\nbonsai\\nbusiness\\nmach...   \n",
      "6   company\\nhorses\\nswarm\\nai\\ntechnology\\nunanim...   \n",
      "7   data\\nai\\ntechnology\\nuk\\nlike\\nexpo\\npolled\\n...   \n",
      "8   levels\\nai\\nlike\\ncost\\nutilities\\nprentice\\no...   \n",
      "9        conversational\\nnatural\\nconversation\\nwrote   \n",
      "10                                           ai\\nexpo   \n",
      "11  learning\\ncray\\nper\\ncluster\\nsystems\\nstorm\\n...   \n",
      "12                       data\\nindustry\\nunicef\\nexpo   \n",
      "13  led\\nstreetlights\\nstreetlight\\nintelligent\\ni...   \n",
      "14  endpoint\\ndata\\ncloud\\nthreats\\nresponse\\nthre...   \n",
      "15  insights\\npeople\\nsales\\nhelps\\nmake\\nleaders\\...   \n",
      "16                        diseases\\nmedical\\nai\\nexpo   \n",
      "17  machine\\nlearning\\ndata\\nindustry\\nventures\\na...   \n",
      "18  cognitivescale\\nindustry\\nhelp\\nai\\nhuman\\nexp...   \n",
      "19  generation\\nai\\nmillennial\\nparents\\nshowed\\ne...   \n",
      "\n",
      "                                                 text  \\\n",
      "0   Cybersecurity provider ZingBox has announced t...   \n",
      "1   Enterprise data centre provider Aegis Data arg...   \n",
      "2   From Domino’s Pizza, to Uber, to Bank of Ameri...   \n",
      "3   Organisations investing in artificial intellig...   \n",
      "4   Tencent’s cloud computing services will be bee...   \n",
      "5   US-based Bonsai is set to engage enterprises a...   \n",
      "6   The Kentucky Derby, one of the three races whi...   \n",
      "7   A new survey commissioned by the UC EXPO event...   \n",
      "8   Gartner has given a tentative guideline of 202...   \n",
      "9   Cisco has announced its intent to acquire Mind...   \n",
      "10  The Leverhulme Centre for the Future of Intell...   \n",
      "11  Cray has launched two new CS-Storm accelerated...   \n",
      "12  UNICEF has announced it has joined Partnership...   \n",
      "13  TCS Digital Software & Solutions Group, part o...   \n",
      "14  Australia-based Cylance has announced the gene...   \n",
      "15  People.ai has received $7 million in Series A ...   \n",
      "16  Artificial intelligence (AI) and deep learning...   \n",
      "17  San Francisco-based crowdsourcing firm CrowdFl...   \n",
      "18  CognitiveScale has announced it has raised an ...   \n",
      "19  A new report from the IEEE has shed light on w...   \n",
      "\n",
      "                                    text_preprocessed  \\\n",
      "0   cybersecurity provider zingbox has announced t...   \n",
      "1   enterprise data centre provider aegis data arg...   \n",
      "2   from domino’s pizza to uber to bank of america...   \n",
      "3   organisations investing in artificial intellig...   \n",
      "4   tencent’s cloud computing services will be bee...   \n",
      "5   us-based bonsai is set to engage enterprises a...   \n",
      "6   the kentucky derby one of the three races whic...   \n",
      "7   a new survey commissioned by the uc expo event...   \n",
      "8   gartner has given a tentative guideline of 202...   \n",
      "9   cisco has announced its intent to acquire mind...   \n",
      "10  the leverhulme centre for the future of intell...   \n",
      "11  cray has launched two new cs-storm accelerated...   \n",
      "12  unicef has announced it has joined partnership...   \n",
      "13  tcs digital software & solutions group part of...   \n",
      "14  australia-based cylance has announced the gene...   \n",
      "15  peopleai has received $7 million in series a f...   \n",
      "16  artificial intelligence (ai) and deep learning...   \n",
      "17  san francisco-based crowdsourcing firm crowdfl...   \n",
      "18  cognitivescale has announced it has raised an ...   \n",
      "19  a new report from the ieee has shed light on w...   \n",
      "\n",
      "                                      text_lemmatized  \n",
      "0   [cybersecurity, provider, zingbox, have, annou...  \n",
      "1   [enterprise, data, centre, provider, aegis, da...  \n",
      "2   [from, domino, ’s, pizza, to, uber, to, bank, ...  \n",
      "3   [organisation, invest, in, artificial, intelli...  \n",
      "4   [tencent, ’s, cloud, computing, service, will,...  \n",
      "5   [-PRON-, -, base, bonsai, be, set, to, engage,...  \n",
      "6   [the, kentucky, derby, one, of, the, three, ra...  \n",
      "7   [a, new, survey, commission, by, the, uc, expo...  \n",
      "8   [gartner, have, give, a, tentative, guideline,...  \n",
      "9   [cisco, have, announce, -PRON-, intent, to, ac...  \n",
      "10  [the, leverhulme, centre, for, the, future, of...  \n",
      "11  [cray, have, launch, two, new, cs, -, storm, a...  \n",
      "12  [unicef, have, announce, -PRON-, have, join, p...  \n",
      "13  [tcs, digital, software, &, solutions, group, ...  \n",
      "14  [australia, -, base, cylance, have, announce, ...  \n",
      "15  [peopleai, have, receive, $, 7, million, in, s...  \n",
      "16  [artificial, intelligence, (, ai, ), and, deep...  \n",
      "17  [san, francisco, -, base, crowdsource, firm, c...  \n",
      "18  [cognitivescale, have, announce, -PRON-, have,...  \n",
      "19  [a, new, report, from, the, ieee, have, shed, ...  \n"
     ]
    }
   ],
   "source": [
    "print(papers2.head(20))"
   ]
  },
  {
   "cell_type": "code",
   "execution_count": 19,
   "metadata": {},
   "outputs": [],
   "source": [
    "# Function to convert each line of a dataset column from list to string\n",
    "def listToString(s):  \n",
    "    \n",
    "    # initialize an empty string \n",
    "    str1 = \" \" \n",
    "    \n",
    "    # return string   \n",
    "    return (str1.join(s)) "
   ]
  },
  {
   "cell_type": "code",
   "execution_count": 20,
   "metadata": {},
   "outputs": [],
   "source": [
    "papers2['text_lemmatized_string'] = \\\n",
    "papers2['text_lemmatized'].apply(lambda x: listToString(x))"
   ]
  },
  {
   "cell_type": "code",
   "execution_count": 21,
   "metadata": {},
   "outputs": [
    {
     "name": "stdout",
     "output_type": "stream",
     "text": [
      "       id                                              title  \\\n",
      "0   10813  ZingBox aims for ‘Internet of Trusted Things’,...   \n",
      "1   10814   AI may help create more sustainable data centres   \n",
      "2   10815  Why a potential trillion dollar B2B bots indus...   \n",
      "3   10816  Why companies investing in AI today should exp...   \n",
      "4   10817  Tencent gears up for greater GPU acceleration ...   \n",
      "5   10818  Bonsai launches Early Access Program to help e...   \n",
      "6   10819  AI falls on the final furlong in predicting Ke...   \n",
      "7   10820  Most Britons want AI to support at least part ...   \n",
      "8   10821  Medicine, law and IT may be affected by the ri...   \n",
      "9   10822  Cisco acquires AI firm MindMeld to create more...   \n",
      "10  10823  University of Cambridge bolsters AI research e...   \n",
      "11  10824  Cray launches two new CS-Storm accelerated clu...   \n",
      "12  10825  UNICEF joins Apple, Google, Facebook et al in ...   \n",
      "13  10826  New intelligent street light software aims to ...   \n",
      "14  10827  Cylance launches first claimed AI-driven endpo...   \n",
      "15  10828  People.ai grabs $7 million funding to launch w...   \n",
      "16  10829  Here’s how AI can assist medical science in te...   \n",
      "17  10830  CrowdFlower raises $20 million in venture fund...   \n",
      "18  10831  CognitiveScale raises $50 million to bring in ...   \n",
      "19  10832  IEEE examines prospects of ‘generation AI’ thr...   \n",
      "\n",
      "                                              summary  \\\n",
      "0   Cybersecurity provider ZingBox has announced t...   \n",
      "1   Enterprise data centre provider Aegis Data arg...   \n",
      "2   From Domino’s Pizza, to Uber, to Bank of Ameri...   \n",
      "3   Organisations investing in artificial intellig...   \n",
      "4   Tencent’s cloud computing services will be bee...   \n",
      "5   US-based Bonsai is set to engage enterprises a...   \n",
      "6   The Kentucky Derby, one of the three races whi...   \n",
      "7   A new survey commissioned by the UC EXPO event...   \n",
      "8   Gartner has given a tentative guideline of 202...   \n",
      "9   Cisco has announced its intent to acquire Mind...   \n",
      "10  The Leverhulme Centre for the Future of Intell...   \n",
      "11  Cray has launched two new CS-Storm accelerated...   \n",
      "12  UNICEF has announced it has joined Partnership...   \n",
      "13  TCS Digital Software & Solutions Group, part o...   \n",
      "14  Australia-based Cylance has announced the gene...   \n",
      "15  People.ai has received $7 million in Series A ...   \n",
      "16  Artificial intelligence (AI) and deep learning...   \n",
      "17  San Francisco-based crowdsourcing firm CrowdFl...   \n",
      "18  CognitiveScale has announced it has raised an ...   \n",
      "19  A new report from the IEEE has shed light on w...   \n",
      "\n",
      "                                                 tags  \\\n",
      "0   device\\niot\\nguardian\\napproach\\ndevices\\nindu...   \n",
      "1   data\\ncentre\\nnatural\\nnew\\ntechnology\\nindust...   \n",
      "2   next\\nbig\\ngupshup\\none\\nbusiness\\ntech\\nimpac...   \n",
      "3   ai\\norganisations\\nindustry\\nemployees\\nexpo\\n...   \n",
      "4   gpu\\naccelerators\\ngpus\\ncloud\\nservices\\ntesl...   \n",
      "5   early\\naccess\\nprogram\\nbonsai\\nbusiness\\nmach...   \n",
      "6   company\\nhorses\\nswarm\\nai\\ntechnology\\nunanim...   \n",
      "7   data\\nai\\ntechnology\\nuk\\nlike\\nexpo\\npolled\\n...   \n",
      "8   levels\\nai\\nlike\\ncost\\nutilities\\nprentice\\no...   \n",
      "9        conversational\\nnatural\\nconversation\\nwrote   \n",
      "10                                           ai\\nexpo   \n",
      "11  learning\\ncray\\nper\\ncluster\\nsystems\\nstorm\\n...   \n",
      "12                       data\\nindustry\\nunicef\\nexpo   \n",
      "13  led\\nstreetlights\\nstreetlight\\nintelligent\\ni...   \n",
      "14  endpoint\\ndata\\ncloud\\nthreats\\nresponse\\nthre...   \n",
      "15  insights\\npeople\\nsales\\nhelps\\nmake\\nleaders\\...   \n",
      "16                        diseases\\nmedical\\nai\\nexpo   \n",
      "17  machine\\nlearning\\ndata\\nindustry\\nventures\\na...   \n",
      "18  cognitivescale\\nindustry\\nhelp\\nai\\nhuman\\nexp...   \n",
      "19  generation\\nai\\nmillennial\\nparents\\nshowed\\ne...   \n",
      "\n",
      "                                                 text  \\\n",
      "0   Cybersecurity provider ZingBox has announced t...   \n",
      "1   Enterprise data centre provider Aegis Data arg...   \n",
      "2   From Domino’s Pizza, to Uber, to Bank of Ameri...   \n",
      "3   Organisations investing in artificial intellig...   \n",
      "4   Tencent’s cloud computing services will be bee...   \n",
      "5   US-based Bonsai is set to engage enterprises a...   \n",
      "6   The Kentucky Derby, one of the three races whi...   \n",
      "7   A new survey commissioned by the UC EXPO event...   \n",
      "8   Gartner has given a tentative guideline of 202...   \n",
      "9   Cisco has announced its intent to acquire Mind...   \n",
      "10  The Leverhulme Centre for the Future of Intell...   \n",
      "11  Cray has launched two new CS-Storm accelerated...   \n",
      "12  UNICEF has announced it has joined Partnership...   \n",
      "13  TCS Digital Software & Solutions Group, part o...   \n",
      "14  Australia-based Cylance has announced the gene...   \n",
      "15  People.ai has received $7 million in Series A ...   \n",
      "16  Artificial intelligence (AI) and deep learning...   \n",
      "17  San Francisco-based crowdsourcing firm CrowdFl...   \n",
      "18  CognitiveScale has announced it has raised an ...   \n",
      "19  A new report from the IEEE has shed light on w...   \n",
      "\n",
      "                                    text_preprocessed  \\\n",
      "0   cybersecurity provider zingbox has announced t...   \n",
      "1   enterprise data centre provider aegis data arg...   \n",
      "2   from domino’s pizza to uber to bank of america...   \n",
      "3   organisations investing in artificial intellig...   \n",
      "4   tencent’s cloud computing services will be bee...   \n",
      "5   us-based bonsai is set to engage enterprises a...   \n",
      "6   the kentucky derby one of the three races whic...   \n",
      "7   a new survey commissioned by the uc expo event...   \n",
      "8   gartner has given a tentative guideline of 202...   \n",
      "9   cisco has announced its intent to acquire mind...   \n",
      "10  the leverhulme centre for the future of intell...   \n",
      "11  cray has launched two new cs-storm accelerated...   \n",
      "12  unicef has announced it has joined partnership...   \n",
      "13  tcs digital software & solutions group part of...   \n",
      "14  australia-based cylance has announced the gene...   \n",
      "15  peopleai has received $7 million in series a f...   \n",
      "16  artificial intelligence (ai) and deep learning...   \n",
      "17  san francisco-based crowdsourcing firm crowdfl...   \n",
      "18  cognitivescale has announced it has raised an ...   \n",
      "19  a new report from the ieee has shed light on w...   \n",
      "\n",
      "                                      text_lemmatized  \\\n",
      "0   [cybersecurity, provider, zingbox, have, annou...   \n",
      "1   [enterprise, data, centre, provider, aegis, da...   \n",
      "2   [from, domino, ’s, pizza, to, uber, to, bank, ...   \n",
      "3   [organisation, invest, in, artificial, intelli...   \n",
      "4   [tencent, ’s, cloud, computing, service, will,...   \n",
      "5   [-PRON-, -, base, bonsai, be, set, to, engage,...   \n",
      "6   [the, kentucky, derby, one, of, the, three, ra...   \n",
      "7   [a, new, survey, commission, by, the, uc, expo...   \n",
      "8   [gartner, have, give, a, tentative, guideline,...   \n",
      "9   [cisco, have, announce, -PRON-, intent, to, ac...   \n",
      "10  [the, leverhulme, centre, for, the, future, of...   \n",
      "11  [cray, have, launch, two, new, cs, -, storm, a...   \n",
      "12  [unicef, have, announce, -PRON-, have, join, p...   \n",
      "13  [tcs, digital, software, &, solutions, group, ...   \n",
      "14  [australia, -, base, cylance, have, announce, ...   \n",
      "15  [peopleai, have, receive, $, 7, million, in, s...   \n",
      "16  [artificial, intelligence, (, ai, ), and, deep...   \n",
      "17  [san, francisco, -, base, crowdsource, firm, c...   \n",
      "18  [cognitivescale, have, announce, -PRON-, have,...   \n",
      "19  [a, new, report, from, the, ieee, have, shed, ...   \n",
      "\n",
      "                               text_lemmatized_string  \n",
      "0   cybersecurity provider zingbox have announce t...  \n",
      "1   enterprise data centre provider aegis data arg...  \n",
      "2   from domino ’s pizza to uber to bank of americ...  \n",
      "3   organisation invest in artificial intelligence...  \n",
      "4   tencent ’s cloud computing service will be bee...  \n",
      "5   -PRON- - base bonsai be set to engage enterpri...  \n",
      "6   the kentucky derby one of the three race which...  \n",
      "7   a new survey commission by the uc expo event h...  \n",
      "8   gartner have give a tentative guideline of 202...  \n",
      "9   cisco have announce -PRON- intent to acquire m...  \n",
      "10  the leverhulme centre for the future of intell...  \n",
      "11  cray have launch two new cs - storm accelerate...  \n",
      "12  unicef have announce -PRON- have join partners...  \n",
      "13  tcs digital software & solutions group part of...  \n",
      "14  australia - base cylance have announce the gen...  \n",
      "15  peopleai have receive $ 7 million in series a ...  \n",
      "16  artificial intelligence ( ai ) and deep learni...  \n",
      "17  san francisco - base crowdsource firm crowdflo...  \n",
      "18  cognitivescale have announce -PRON- have raise...  \n",
      "19  a new report from the ieee have shed light on ...  \n"
     ]
    }
   ],
   "source": [
    "print(papers2.head(20))"
   ]
  },
  {
   "cell_type": "code",
   "execution_count": null,
   "metadata": {},
   "outputs": [],
   "source": []
  },
  {
   "cell_type": "markdown",
   "metadata": {},
   "source": [
    "### spaCy preparation for removing stopwords (automatic removed by spaCy as well as the manual selection of stopwords)"
   ]
  },
  {
   "cell_type": "code",
   "execution_count": 22,
   "metadata": {},
   "outputs": [],
   "source": [
    "from spacy.lang.en import English\n",
    "from spacy.lang.en.stop_words import STOP_WORDS"
   ]
  },
  {
   "cell_type": "code",
   "execution_count": 23,
   "metadata": {},
   "outputs": [],
   "source": [
    "# STOP WORD set in order to add manually stopwords to the stop word list\n",
    "STOP_WORDS |= {\"ai\", \"artificial\", \"intelligence\"}"
   ]
  },
  {
   "cell_type": "code",
   "execution_count": 24,
   "metadata": {},
   "outputs": [],
   "source": [
    "# Load English tokenizer, tagger, parser, NER and word vectors\n",
    "nlp = English()"
   ]
  },
  {
   "cell_type": "code",
   "execution_count": 25,
   "metadata": {},
   "outputs": [],
   "source": [
    "def removing_stopwords(line):\n",
    "    #  \"nlp\" Object is used to create documents with linguistic annotations.\n",
    "    my_doc = nlp(line)\n",
    "\n",
    "    # Create list of word tokens\n",
    "    token_list = []\n",
    "    \n",
    "    for token in my_doc:\n",
    "        token_list.append(token.text)\n",
    "\n",
    "\n",
    "    # Create list of word tokens after removing stopwords\n",
    "    filtered_sentence =[] \n",
    "\n",
    "    for word in token_list: \n",
    "\n",
    "        lexeme = nlp.vocab[word]\n",
    "   \n",
    "        if lexeme.is_stop == False:\n",
    "            filtered_sentence.append(word) \n",
    "            \n",
    "            \n",
    "    return filtered_sentence\n",
    "    \n",
    "    \n",
    "    "
   ]
  },
  {
   "cell_type": "code",
   "execution_count": 26,
   "metadata": {},
   "outputs": [],
   "source": [
    "papers2['text_cleaned'] = \\\n",
    "papers2['text_lemmatized_string'].apply(lambda x: removing_stopwords(x))"
   ]
  },
  {
   "cell_type": "code",
   "execution_count": 27,
   "metadata": {},
   "outputs": [
    {
     "name": "stdout",
     "output_type": "stream",
     "text": [
      "0    [cybersecurity, provider, zingbox, announce, l...\n",
      "1    [enterprise, data, centre, provider, aegis, da...\n",
      "2    [domino, pizza, uber, bank, america, bots, hot...\n",
      "3    [organisation, invest, (, ), anticipate, 39, %...\n",
      "4    [tencent, cloud, computing, service, beef, gpu...\n",
      "5    [-PRON-, -, base, bonsai, set, engage, enterpr...\n",
      "6    [kentucky, derby, race, triple, crown, horse, ...\n",
      "7    [new, survey, commission, uc, expo, event, rev...\n",
      "8    [gartner, tentative, guideline, 2022, smart, m...\n",
      "9    [cisco, announce, -PRON-, intent, acquire, min...\n",
      "Name: text_cleaned, dtype: object\n"
     ]
    }
   ],
   "source": [
    "print(papers2['text_cleaned'].head(10))"
   ]
  },
  {
   "cell_type": "code",
   "execution_count": 28,
   "metadata": {},
   "outputs": [],
   "source": [
    "papers2['text_cleaned_string'] = \\\n",
    "papers2['text_cleaned'].apply(lambda x: listToString(x))"
   ]
  },
  {
   "cell_type": "code",
   "execution_count": 29,
   "metadata": {},
   "outputs": [
    {
     "name": "stdout",
     "output_type": "stream",
     "text": [
      "0     cybersecurity provider zingbox announce launch...\n",
      "1     enterprise data centre provider aegis data arg...\n",
      "2     domino pizza uber bank america bots hot proper...\n",
      "3     organisation invest ( ) anticipate 39 % revenu...\n",
      "4     tencent cloud computing service beef gpu accel...\n",
      "5     -PRON- - base bonsai set engage enterprise ind...\n",
      "6     kentucky derby race triple crown horse racing ...\n",
      "7     new survey commission uc expo event reveal 85 ...\n",
      "8     gartner tentative guideline 2022 smart machine...\n",
      "9     cisco announce -PRON- intent acquire mindmeld ...\n",
      "10    leverhulme centre future ( cfi ) join - - prof...\n",
      "11    cray launch new cs - storm accelerate cluster ...\n",
      "12    unicef announce -PRON- join partnership ( ) da...\n",
      "13    tcs digital software & solutions group tata co...\n",
      "14    australia - base cylance announce general avai...\n",
      "15    peopleai receive $ 7 million series funding le...\n",
      "16    ( ) deep learning help analyse image patient o...\n",
      "17    san francisco - base crowdsource firm crowdflo...\n",
      "18    cognitivescale announce -PRON- raise additiona...\n",
      "19    new report ieee shed light -PRON- ' generation...\n",
      "Name: text_cleaned_string, dtype: object\n"
     ]
    }
   ],
   "source": [
    "print(papers2['text_cleaned_string'].head(20))"
   ]
  },
  {
   "cell_type": "code",
   "execution_count": null,
   "metadata": {},
   "outputs": [],
   "source": []
  },
  {
   "cell_type": "code",
   "execution_count": null,
   "metadata": {},
   "outputs": [],
   "source": [
    "## Manual NMF model building"
   ]
  },
  {
   "cell_type": "code",
   "execution_count": 78,
   "metadata": {},
   "outputs": [],
   "source": [
    "from sklearn.feature_extraction.text import TfidfVectorizer"
   ]
  },
  {
   "cell_type": "code",
   "execution_count": 167,
   "metadata": {},
   "outputs": [],
   "source": [
    "texts = papers2['text_cleaned']"
   ]
  },
  {
   "cell_type": "code",
   "execution_count": 86,
   "metadata": {},
   "outputs": [],
   "source": [
    "#tfidf = TfidfVectorizer(max_df=0.95, min_df=2, stop_words='english')"
   ]
  },
  {
   "cell_type": "code",
   "execution_count": 169,
   "metadata": {},
   "outputs": [],
   "source": [
    "#texts = df['processed_text']\n",
    "tfidf_vectorizer = TfidfVectorizer(\n",
    "    min_df=3,\n",
    "    max_df=0.85,\n",
    "    max_features=5000,\n",
    "    ngram_range=(1, 2),\n",
    "    preprocessor=' '.join\n",
    ")\n",
    "tfidf = tfidf_vectorizer.fit_transform(texts)"
   ]
  },
  {
   "cell_type": "code",
   "execution_count": null,
   "metadata": {},
   "outputs": [],
   "source": []
  },
  {
   "cell_type": "code",
   "execution_count": 170,
   "metadata": {},
   "outputs": [],
   "source": [
    "nmf = NMF(\n",
    "    n_components=20,\n",
    "    init='nndsvd'\n",
    ").fit(tfidf)"
   ]
  },
  {
   "cell_type": "code",
   "execution_count": 171,
   "metadata": {},
   "outputs": [],
   "source": [
    "import numpy as np\n",
    "from sklearn import preprocessing\n",
    "from sklearn.model_selection import train_test_split\n"
   ]
  },
  {
   "cell_type": "code",
   "execution_count": 164,
   "metadata": {},
   "outputs": [],
   "source": [
    "from sklearn.feature_extraction.text import TfidfVectorizer"
   ]
  },
  {
   "cell_type": "code",
   "execution_count": 165,
   "metadata": {},
   "outputs": [],
   "source": [
    "tfidf = TfidfVectorizer(max_df=0.95, min_df=2, stop_words='english')"
   ]
  },
  {
   "cell_type": "markdown",
   "metadata": {},
   "source": [
    "# A = tfidf ???"
   ]
  },
  {
   "cell_type": "code",
   "execution_count": 177,
   "metadata": {},
   "outputs": [],
   "source": [
    "# A = tfidf.transform(texts)\n",
    "# A = tfidf.transform(texts)\n",
    "# TfidfVectorizer\n",
    "W = nmf.components_\n",
    "H = nmf.transform(tfidf)"
   ]
  },
  {
   "cell_type": "code",
   "execution_count": 180,
   "metadata": {},
   "outputs": [
    {
     "name": "stdout",
     "output_type": "stream",
     "text": [
      "[[0.04118416 0.00579343 0.00232928 ... 0.         0.         0.        ]\n",
      " [0.01358988 0.00101442 0.         ... 0.         0.         0.        ]\n",
      " [0.02021046 0.         0.         ... 0.00360446 0.00090056 0.        ]\n",
      " ...\n",
      " [0.01114519 0.         0.0039828  ... 0.         0.         0.        ]\n",
      " [0.00720762 0.0026766  0.00216779 ... 0.         0.         0.07397321]\n",
      " [0.10404521 0.         0.         ... 0.         0.         0.        ]]\n",
      "\n",
      "\n",
      "\n",
      "[[0.         0.15162563 0.00145817 ... 0.         0.         0.0177025 ]\n",
      " [0.         0.11590902 0.00552744 ... 0.         0.         0.00976268]\n",
      " [0.00811671 0.14361121 0.         ... 0.03618125 0.         0.        ]\n",
      " ...\n",
      " [0.         0.         0.11502178 ... 0.00346943 0.0051476  0.        ]\n",
      " [0.00753673 0.         0.25144168 ... 0.         0.         0.00677234]\n",
      " [0.01830016 0.00554809 0.         ... 0.01489946 0.01772062 0.00642855]]\n"
     ]
    }
   ],
   "source": [
    "print(W)\n",
    "print('\\n\\n')\n",
    "print(H)"
   ]
  },
  {
   "cell_type": "code",
   "execution_count": 134,
   "metadata": {},
   "outputs": [],
   "source": [
    "def count_words(text):\n",
    "    \n",
    "    counter = 0\n",
    "    for i in text:\n",
    "        counter += 1\n",
    "        \n",
    "    return counter"
   ]
  },
  {
   "cell_type": "code",
   "execution_count": 147,
   "metadata": {},
   "outputs": [],
   "source": [
    "papers2['word_count'] = papers2['text_cleaned'].apply(lambda x: count_words(x))"
   ]
  },
  {
   "cell_type": "code",
   "execution_count": 148,
   "metadata": {},
   "outputs": [
    {
     "name": "stdout",
     "output_type": "stream",
     "text": [
      "         id                                              title  \\\n",
      "0     10813  ZingBox aims for ‘Internet of Trusted Things’,...   \n",
      "1     10814   AI may help create more sustainable data centres   \n",
      "2     10815  Why a potential trillion dollar B2B bots indus...   \n",
      "3     10816  Why companies investing in AI today should exp...   \n",
      "4     10817  Tencent gears up for greater GPU acceleration ...   \n",
      "...     ...                                                ...   \n",
      "1621  12434    Robotic pets may be bad medicine for melancholy   \n",
      "1622  12435          MIT develops Anklebot for stroke patients   \n",
      "1623  12436                                 Notes from the Lab   \n",
      "1624  12437        Ray and Maria Stata give $25 million to MIT   \n",
      "1625  12438  Reuters Uses AI To Prototype First Ever Automa...   \n",
      "\n",
      "                                                summary  \\\n",
      "0     Cybersecurity provider ZingBox has announced t...   \n",
      "1     Enterprise data centre provider Aegis Data arg...   \n",
      "2     From Domino’s Pizza, to Uber, to Bank of Ameri...   \n",
      "3     Organisations investing in artificial intellig...   \n",
      "4     Tencent’s cloud computing services will be bee...   \n",
      "...                                                 ...   \n",
      "1621  Sherry Turkle finds human-machine love unsettling   \n",
      "1622                 Research team foresees robotic gym   \n",
      "1623            UNDERWATER ROBOTS THAT MAP AND NAVIGATE   \n",
      "1624  Gift is largest ever for Institute building pr...   \n",
      "1625  AI is coming for journalism. But rather than s...   \n",
      "\n",
      "                                                   tags  \\\n",
      "0     device\\niot\\nguardian\\napproach\\ndevices\\nindu...   \n",
      "1     data\\ncentre\\nnatural\\nnew\\ntechnology\\nindust...   \n",
      "2     next\\nbig\\ngupshup\\none\\nbusiness\\ntech\\nimpac...   \n",
      "3     ai\\norganisations\\nindustry\\nemployees\\nexpo\\n...   \n",
      "4     gpu\\naccelerators\\ngpus\\ncloud\\nservices\\ntesl...   \n",
      "...                                                 ...   \n",
      "1621  Technology and society\\nResearch Laboratory of...   \n",
      "1622  arm\\ntrial\\ntherapy\\nclinical\\nhogan\\nmedical\\...   \n",
      "1623  Research Laboratory of Electronics\\nmit\\nImagi...   \n",
      "1624  together\\nnew\\nCampus buildings and architectu...   \n",
      "1625  journalism\\ncontent generation\\nreuters\\nSynth...   \n",
      "\n",
      "                                                   text  \\\n",
      "0     Cybersecurity provider ZingBox has announced t...   \n",
      "1     Enterprise data centre provider Aegis Data arg...   \n",
      "2     From Domino’s Pizza, to Uber, to Bank of Ameri...   \n",
      "3     Organisations investing in artificial intellig...   \n",
      "4     Tencent’s cloud computing services will be bee...   \n",
      "...                                                 ...   \n",
      "1621  In the face of techno-doomsday punditry, Sherr...   \n",
      "1622  Clinical trials have already shown that an MIT...   \n",
      "1623  Imagine driving down an unfamiliar road and tr...   \n",
      "1624  MIT today announced a $25 million donation by ...   \n",
      "1625  AI is coming for journalism. But rather than s...   \n",
      "\n",
      "                                      text_preprocessed  \\\n",
      "0     cybersecurity provider zingbox has announced t...   \n",
      "1     enterprise data centre provider aegis data arg...   \n",
      "2     from domino’s pizza to uber to bank of america...   \n",
      "3     organisations investing in artificial intellig...   \n",
      "4     tencent’s cloud computing services will be bee...   \n",
      "...                                                 ...   \n",
      "1621  in the face of techno-doomsday punditry sherry...   \n",
      "1622  clinical trials have already shown that an mit...   \n",
      "1623  imagine driving down an unfamiliar road and tr...   \n",
      "1624  mit today announced a $25 million donation by ...   \n",
      "1625  ai is coming for journalism but rather than si...   \n",
      "\n",
      "                                        text_lemmatized  \\\n",
      "0     [cybersecurity, provider, zingbox, have, annou...   \n",
      "1     [enterprise, data, centre, provider, aegis, da...   \n",
      "2     [from, domino, ’s, pizza, to, uber, to, bank, ...   \n",
      "3     [organisation, invest, in, artificial, intelli...   \n",
      "4     [tencent, ’s, cloud, computing, service, will,...   \n",
      "...                                                 ...   \n",
      "1621  [in, the, face, of, techno, -, doomsday, pundi...   \n",
      "1622  [clinical, trial, have, already, show, that, a...   \n",
      "1623  [imagine, drive, down, an, unfamiliar, road, a...   \n",
      "1624  [mit, today, announce, a, $, 25, million, dona...   \n",
      "1625  [ai, be, come, for, journalism, but, rather, t...   \n",
      "\n",
      "                                 text_lemmatized_string  \\\n",
      "0     cybersecurity provider zingbox have announce t...   \n",
      "1     enterprise data centre provider aegis data arg...   \n",
      "2     from domino ’s pizza to uber to bank of americ...   \n",
      "3     organisation invest in artificial intelligence...   \n",
      "4     tencent ’s cloud computing service will be bee...   \n",
      "...                                                 ...   \n",
      "1621  in the face of techno - doomsday punditry sher...   \n",
      "1622  clinical trial have already show that an mit r...   \n",
      "1623  imagine drive down an unfamiliar road and try ...   \n",
      "1624  mit today announce a $ 25 million donation by ...   \n",
      "1625  ai be come for journalism but rather than simp...   \n",
      "\n",
      "                                           text_cleaned  \\\n",
      "0     [cybersecurity, provider, zingbox, announce, l...   \n",
      "1     [enterprise, data, centre, provider, aegis, da...   \n",
      "2     [domino, pizza, uber, bank, america, bots, hot...   \n",
      "3     [organisation, invest, (, ), anticipate, 39, %...   \n",
      "4     [tencent, cloud, computing, service, beef, gpu...   \n",
      "...                                                 ...   \n",
      "1621  [face, techno, -, doomsday, punditry, sherry, ...   \n",
      "1622  [clinical, trial, mit, robotic, arm, help, str...   \n",
      "1623  [imagine, drive, unfamiliar, road, try, find, ...   \n",
      "1624  [mit, today, announce, $, 25, million, donatio...   \n",
      "1625  [come, journalism, simply, use, job, writer, r...   \n",
      "\n",
      "                                    text_cleaned_string  word_count  \n",
      "0     cybersecurity provider zingbox announce launch...         231  \n",
      "1     enterprise data centre provider aegis data arg...         350  \n",
      "2     domino pizza uber bank america bots hot proper...         337  \n",
      "3     organisation invest ( ) anticipate 39 % revenu...         278  \n",
      "4     tencent cloud computing service beef gpu accel...         291  \n",
      "...                                                 ...         ...  \n",
      "1621  face techno - doomsday punditry sherry turkle ...         408  \n",
      "1622  clinical trial mit robotic arm help stroke pat...         565  \n",
      "1623  imagine drive unfamiliar road try find -PRON- ...         121  \n",
      "1624  mit today announce $ 25 million donation ray m...         715  \n",
      "1625  come journalism simply use job writer reuters ...         607  \n",
      "\n",
      "[1626 rows x 11 columns]\n"
     ]
    }
   ],
   "source": [
    "print(papers2)"
   ]
  },
  {
   "cell_type": "code",
   "execution_count": 149,
   "metadata": {},
   "outputs": [
    {
     "data": {
      "text/plain": [
       "count    1626.000000\n",
       "mean      461.149446\n",
       "std       269.573823\n",
       "min        51.000000\n",
       "25%       287.000000\n",
       "50%       404.000000\n",
       "75%       559.750000\n",
       "max      3126.000000\n",
       "Name: word_count, dtype: float64"
      ]
     },
     "execution_count": 149,
     "metadata": {},
     "output_type": "execute_result"
    }
   ],
   "source": [
    "# Descriptive statistics for word count\n",
    "papers2['word_count'].describe()"
   ]
  },
  {
   "cell_type": "code",
   "execution_count": 150,
   "metadata": {},
   "outputs": [
    {
     "data": {
      "image/png": "[encoded data removed]",
      "text/plain": [
       "<Figure size 1440x360 with 1 Axes>"
      ]
     },
     "metadata": {
      "needs_background": "light"
     },
     "output_type": "display_data"
    }
   ],
   "source": [
    "# Plot a hist of the word counts\n",
    "fig = plt.figure(figsize=(20,5))\n",
    "\n",
    "plt.hist(\n",
    "    papers2['word_count'],\n",
    "    bins=20,\n",
    "    color='#60505C'\n",
    ")\n",
    "\n",
    "plt.title('Distribution - Article Word Count', fontsize=16)\n",
    "plt.ylabel('Frequency', fontsize=12)\n",
    "plt.xlabel('Word Count', fontsize=12)\n",
    "plt.yticks(np.arange(0, 50, 5))\n",
    "plt.xticks(np.arange(0, 2700, 200))\n",
    "\n",
    "file_name = 'hist'\n",
    "\n",
    "plt.show()"
   ]
  },
  {
   "cell_type": "code",
   "execution_count": 151,
   "metadata": {},
   "outputs": [
    {
     "name": "stderr",
     "output_type": "stream",
     "text": [
      "/home/christopheschellinck/anaconda3/envs/virtualenvchris/lib/python3.7/site-packages/seaborn/_decorators.py:43: FutureWarning: Pass the following variable as a keyword arg: x. From version 0.12, the only valid positional argument will be `data`, and passing other arguments without an explicit keyword will result in an error or misinterpretation.\n",
      "  FutureWarning\n",
      "/home/christopheschellinck/anaconda3/envs/virtualenvchris/lib/python3.7/site-packages/seaborn/_core.py:1303: UserWarning: Vertical orientation ignored with only `x` specified.\n",
      "  warnings.warn(single_var_warning.format(\"Vertical\", \"x\"))\n"
     ]
    },
    {
     "data": {
      "image/png": "[encoded data removed]",
      "text/plain": [
       "<Figure size 288x648 with 1 Axes>"
      ]
     },
     "metadata": {
      "needs_background": "light"
     },
     "output_type": "display_data"
    }
   ],
   "source": [
    "# Plot a boxplot of the word counts\n",
    "fig = plt.figure(figsize=(4,9))\n",
    "\n",
    "sns.boxplot(\n",
    "    papers2['word_count'],\n",
    "    orient='v',\n",
    "    width=.5,\n",
    "    color='#ff8080'\n",
    ")\n",
    "\n",
    "plt.ylabel(\"Word Count\", fontsize=12)\n",
    "plt.title('Distribution - Article Word Count', fontsize=16)\n",
    "plt.yticks(np.arange(0, 2700, 100))\n",
    "\n",
    "file_name = 'box_plot'\n",
    "\n",
    "\n",
    "plt.show()"
   ]
  },
  {
   "cell_type": "code",
   "execution_count": 152,
   "metadata": {},
   "outputs": [
    {
     "data": {
      "text/html": [
       "<div>\n",
       "<style scoped>\n",
       "    .dataframe tbody tr th:only-of-type {\n",
       "        vertical-align: middle;\n",
       "    }\n",
       "\n",
       "    .dataframe tbody tr th {\n",
       "        vertical-align: top;\n",
       "    }\n",
       "\n",
       "    .dataframe thead th {\n",
       "        text-align: right;\n",
       "    }\n",
       "</style>\n",
       "<table border=\"1\" class=\"dataframe\">\n",
       "  <thead>\n",
       "    <tr style=\"text-align: right;\">\n",
       "      <th></th>\n",
       "      <th>word</th>\n",
       "      <th>frequency</th>\n",
       "    </tr>\n",
       "  </thead>\n",
       "  <tbody>\n",
       "    <tr>\n",
       "      <th>0</th>\n",
       "      <td>-PRON-</td>\n",
       "      <td>52030</td>\n",
       "    </tr>\n",
       "    <tr>\n",
       "      <th>1</th>\n",
       "      <td>\"</td>\n",
       "      <td>23081</td>\n",
       "    </tr>\n",
       "    <tr>\n",
       "      <th>2</th>\n",
       "      <td>-</td>\n",
       "      <td>13863</td>\n",
       "    </tr>\n",
       "    <tr>\n",
       "      <th>3</th>\n",
       "      <td>use</td>\n",
       "      <td>5662</td>\n",
       "    </tr>\n",
       "    <tr>\n",
       "      <th>4</th>\n",
       "      <td>—</td>\n",
       "      <td>5052</td>\n",
       "    </tr>\n",
       "    <tr>\n",
       "      <th>5</th>\n",
       "      <td>’</td>\n",
       "      <td>4124</td>\n",
       "    </tr>\n",
       "    <tr>\n",
       "      <th>6</th>\n",
       "      <td>like</td>\n",
       "      <td>3819</td>\n",
       "    </tr>\n",
       "    <tr>\n",
       "      <th>7</th>\n",
       "      <td>system</td>\n",
       "      <td>3803</td>\n",
       "    </tr>\n",
       "    <tr>\n",
       "      <th>8</th>\n",
       "      <td>datum</td>\n",
       "      <td>3673</td>\n",
       "    </tr>\n",
       "    <tr>\n",
       "      <th>9</th>\n",
       "      <td>machine</td>\n",
       "      <td>3666</td>\n",
       "    </tr>\n",
       "    <tr>\n",
       "      <th>10</th>\n",
       "      <td>human</td>\n",
       "      <td>3579</td>\n",
       "    </tr>\n",
       "    <tr>\n",
       "      <th>11</th>\n",
       "      <td>work</td>\n",
       "      <td>3535</td>\n",
       "    </tr>\n",
       "    <tr>\n",
       "      <th>12</th>\n",
       "      <td>new</td>\n",
       "      <td>3526</td>\n",
       "    </tr>\n",
       "    <tr>\n",
       "      <th>13</th>\n",
       "      <td>learn</td>\n",
       "      <td>3347</td>\n",
       "    </tr>\n",
       "    <tr>\n",
       "      <th>14</th>\n",
       "      <td>:</td>\n",
       "      <td>3192</td>\n",
       "    </tr>\n",
       "    <tr>\n",
       "      <th>15</th>\n",
       "      <td>technology</td>\n",
       "      <td>3154</td>\n",
       "    </tr>\n",
       "    <tr>\n",
       "      <th>16</th>\n",
       "      <td>company</td>\n",
       "      <td>3130</td>\n",
       "    </tr>\n",
       "    <tr>\n",
       "      <th>17</th>\n",
       "      <td>google</td>\n",
       "      <td>2802</td>\n",
       "    </tr>\n",
       "    <tr>\n",
       "      <th>18</th>\n",
       "      <td>computer</td>\n",
       "      <td>2666</td>\n",
       "    </tr>\n",
       "    <tr>\n",
       "      <th>19</th>\n",
       "      <td>)</td>\n",
       "      <td>2604</td>\n",
       "    </tr>\n",
       "  </tbody>\n",
       "</table>\n",
       "</div>"
      ],
      "text/plain": [
       "          word  frequency\n",
       "0       -PRON-      52030\n",
       "1            \"      23081\n",
       "2            -      13863\n",
       "3          use       5662\n",
       "4            —       5052\n",
       "5            ’       4124\n",
       "6         like       3819\n",
       "7       system       3803\n",
       "8        datum       3673\n",
       "9      machine       3666\n",
       "10       human       3579\n",
       "11        work       3535\n",
       "12         new       3526\n",
       "13       learn       3347\n",
       "14           :       3192\n",
       "15  technology       3154\n",
       "16     company       3130\n",
       "17      google       2802\n",
       "18    computer       2666\n",
       "19           )       2604"
      ]
     },
     "execution_count": 152,
     "metadata": {},
     "output_type": "execute_result"
    }
   ],
   "source": [
    "# Get the top 20 most common words among all the articles\n",
    "p_text = papers2['text_cleaned']\n",
    "\n",
    "# Flaten the list of lists\n",
    "p_text = [item for sublist in p_text for item in sublist]\n",
    "\n",
    "# Top 20\n",
    "top_20 = pd.DataFrame(\n",
    "    Counter(p_text).most_common(20),\n",
    "    columns=['word', 'frequency']\n",
    ")\n",
    "\n",
    "top_20"
   ]
  },
  {
   "cell_type": "code",
   "execution_count": 154,
   "metadata": {},
   "outputs": [
    {
     "data": {
      "image/png": "[encoded data removed]",
      "text/plain": [
       "<Figure size 1440x504 with 1 Axes>"
      ]
     },
     "metadata": {
      "needs_background": "light"
     },
     "output_type": "display_data"
    }
   ],
   "source": [
    "# Plot a bar chart for the top 20 most frequently occuring words\n",
    "fig = plt.figure(figsize=(20,7))\n",
    "\n",
    "g = sns.barplot(\n",
    "    x='word',\n",
    "    y='frequency',\n",
    "    data=top_20,\n",
    "    palette='GnBu_d'\n",
    ")\n",
    "\n",
    "g.set_xticklabels(\n",
    "    g.get_xticklabels(),\n",
    "    rotation=45,\n",
    "    fontsize=14\n",
    ")\n",
    "\n",
    "plt.yticks(fontsize=14)\n",
    "plt.xlabel('Words', fontsize=14)\n",
    "plt.ylabel('Frequency', fontsize=14)\n",
    "plt.title('Top 20 Words', fontsize=17)\n",
    "\n",
    "file_name = 'top_words'\n",
    "\n",
    "plt.show()"
   ]
  },
  {
   "cell_type": "code",
   "execution_count": null,
   "metadata": {},
   "outputs": [],
   "source": []
  },
  {
   "cell_type": "code",
   "execution_count": null,
   "metadata": {},
   "outputs": [],
   "source": []
  },
  {
   "cell_type": "markdown",
   "metadata": {},
   "source": [
    "## gensim way making reference score"
   ]
  },
  {
   "cell_type": "code",
   "execution_count": null,
   "metadata": {},
   "outputs": [],
   "source": [
    "# https://github.com/robsalgado/personal_data_science_projects/blob/master/topic_modeling_nmf/topic_modeling_cnn.ipynb\n",
    "\n",
    "# https://towardsdatascience.com/topic-modeling-articles-with-nmf-8c6b2a227a45"
   ]
  },
  {
   "cell_type": "code",
   "execution_count": 93,
   "metadata": {},
   "outputs": [],
   "source": [
    "from gensim.test.utils import common_texts\n",
    "from gensim.corpora.dictionary import Dictionary\n",
    "from gensim.models.nmf import Nmf\n",
    "from gensim.models.coherencemodel import CoherenceModel\n",
    "\n",
    "from collections import Counter\n",
    "from operator import itemgetter\n",
    "\n",
    "import matplotlib.pyplot as plt\n",
    "import seaborn as sns\n",
    "\n",
    "import numpy as np"
   ]
  },
  {
   "cell_type": "code",
   "execution_count": 128,
   "metadata": {},
   "outputs": [
    {
     "name": "stdout",
     "output_type": "stream",
     "text": [
      "3\n",
      "4\n",
      "5\n",
      "6\n",
      "7\n",
      "8\n",
      "9\n",
      "10\n",
      "11\n",
      "12\n",
      "13\n",
      "14\n",
      "15\n",
      "16\n",
      "17\n",
      "18\n",
      "19\n",
      "20\n",
      "21\n",
      "22\n",
      "23\n",
      "24\n",
      "25\n",
      "26\n",
      "27\n",
      "28\n",
      "29\n",
      "30\n",
      "\n",
      "\n",
      "Optimal number of topics: \n",
      "6\n"
     ]
    }
   ],
   "source": [
    "# Use Gensim's NMF to get the best num of topics via coherence score\n",
    "texts = papers2['text_cleaned']\n",
    "\n",
    "# Create a dictionary\n",
    "# In gensim a dictionary is a mapping between words and their integer id\n",
    "dictionary = Dictionary(texts)\n",
    "\n",
    "# Filter out extremes to limit the number of features\n",
    "dictionary.filter_extremes(\n",
    "    no_below=3,\n",
    "    no_above=0.85,\n",
    "    keep_n=5000\n",
    ")\n",
    "\n",
    "# Create the bag-of-words format (list of (token_id, token_count))\n",
    "corpus = [dictionary.doc2bow(text) for text in texts]\n",
    "starting_from = 3\n",
    "# Create a list of the topic numbers we want to try\n",
    "topic_nums = list(np.arange(starting_from, 30 + 1, 1))\n",
    "#topic_nums = range(20)\n",
    "\n",
    "# Run the nmf model and calculate the coherence score\n",
    "# for each number of topics\n",
    "coherence_scores = []\n",
    "\n",
    "\n",
    "\n",
    "for num in topic_nums:\n",
    "    #nmf = Nmf(common_corpus, num_topics=50, kappa=0.1, eval_every=5)\n",
    "    # nmf = Nmf(corpus=corpus, num_topics=topic_nums, kappa=0.1, eval_every=5)\n",
    "    # nmf = Nmf(corpus=corpus, num_topics=num, kappa=0.1, eval_every=5)\n",
    "    \n",
    "    nmf = Nmf(\n",
    "        corpus,\n",
    "        num_topics=num,\n",
    "        id2word=dictionary,\n",
    "        chunksize=2000,\n",
    "        passes=5,\n",
    "        kappa=.1,\n",
    "        minimum_probability=0.01,\n",
    "        w_max_iter=300,\n",
    "        w_stop_condition=0.0001,\n",
    "        h_max_iter=100,\n",
    "        h_stop_condition=0.001,\n",
    "        eval_every=10,\n",
    "        normalize=True,\n",
    "        random_state=42\n",
    "    )\n",
    "    \n",
    "    #nmf = Nmf(corpus=corpus, num_topics=num)\n",
    "    print(num)\n",
    "    # Run the coherence model to get the score\n",
    "    cm = CoherenceModel(\n",
    "        model=nmf,\n",
    "        texts=texts,\n",
    "        dictionary=dictionary,\n",
    "        coherence='c_v'\n",
    "    )\n",
    "    \n",
    "    coherence_scores.append(round(cm.get_coherence(), 5))\n",
    "\n",
    "# Get the number of topics with the highest coherence score\n",
    "scores = list(zip(topic_nums, coherence_scores))\n",
    "best_num_topics = sorted(scores, key=itemgetter(1), reverse=True)[0][0]\n",
    "print('\\n')\n",
    "print('Optimal number of topics: ')\n",
    "print(best_num_topics)\n"
   ]
  },
  {
   "cell_type": "code",
   "execution_count": 129,
   "metadata": {},
   "outputs": [
    {
     "name": "stdout",
     "output_type": "stream",
     "text": [
      "[0.29122, 0.33645, 0.34928, 0.4285, 0.42253, 0.38947, 0.40445, 0.41512, 0.42056, 0.39475, 0.41606, 0.42703, 0.40773, 0.41815, 0.39833, 0.40237, 0.39645, 0.41175, 0.41152, 0.42466, 0.39965, 0.41328, 0.40462, 0.42037, 0.40582, 0.41115, 0.4045, 0.39091]\n"
     ]
    }
   ],
   "source": [
    "print(coherence_scores)"
   ]
  },
  {
   "cell_type": "code",
   "execution_count": 130,
   "metadata": {},
   "outputs": [
    {
     "name": "stdout",
     "output_type": "stream",
     "text": [
      "3 0.29122\n",
      "4 0.33645\n",
      "5 0.34928\n",
      "6 0.4285\n",
      "7 0.42253\n",
      "8 0.38947\n",
      "9 0.40445\n",
      "10 0.41512\n",
      "11 0.42056\n",
      "12 0.39475\n",
      "13 0.41606\n",
      "14 0.42703\n",
      "15 0.40773\n",
      "16 0.41815\n",
      "17 0.39833\n",
      "18 0.40237\n",
      "19 0.39645\n",
      "20 0.41175\n",
      "21 0.41152\n",
      "22 0.42466\n",
      "23 0.39965\n",
      "24 0.41328\n",
      "25 0.40462\n",
      "26 0.42037\n",
      "27 0.40582\n",
      "28 0.41115\n",
      "29 0.4045\n",
      "30 0.39091\n"
     ]
    }
   ],
   "source": [
    "for index, value in enumerate(coherence_scores, starting_from):\n",
    "    print(index, value)"
   ]
  },
  {
   "cell_type": "code",
   "execution_count": 131,
   "metadata": {},
   "outputs": [
    {
     "name": "stdout",
     "output_type": "stream",
     "text": [
      "Highest coherence score of the trials: 0.4285\n",
      "index of the highest value (considering the sequential order of the values of the scores): 3\n"
     ]
    }
   ],
   "source": [
    "# print(coherence_scores.argmax(array, axis = 1))\n",
    "print('Highest coherence score of the trials: %s' % max(coherence_scores))\n",
    "print('index of the highest value (considering the sequential order of the values of the scores): %s' % np.argmax(coherence_scores))\n"
   ]
  },
  {
   "cell_type": "code",
   "execution_count": 132,
   "metadata": {},
   "outputs": [
    {
     "data": {
      "image/png": "[encoded data removed]",
      "text/plain": [
       "<Figure size 1080x504 with 1 Axes>"
      ]
     },
     "metadata": {
      "needs_background": "light"
     },
     "output_type": "display_data"
    }
   ],
   "source": [
    "# Plot the results\n",
    "fig = plt.figure(figsize=(15, 7))\n",
    "\n",
    "plt.plot(\n",
    "    topic_nums,\n",
    "    coherence_scores,\n",
    "    linewidth=3,\n",
    "    color='#4287f5'\n",
    ")\n",
    "\n",
    "plt.xlabel(\"Topic Num\", fontsize=14)\n",
    "plt.ylabel(\"Coherence Score\", fontsize=14)\n",
    "plt.title('Coherence Score by Topic Number - Most optimal Number of Topics: {}'.format(best_num_topics), fontsize=18)\n",
    "plt.xticks(np.arange(5, max(topic_nums) + 1, 5), fontsize=12)\n",
    "plt.yticks(fontsize=12)\n",
    "\n",
    "\n",
    "# file_name = 'c_score'\n",
    "\n",
    "# fig.savefig(\n",
    "#    file_path + file_name + '.png',\n",
    "#    dpi=fig.dpi,\n",
    "#    bbox_inches='tight'\n",
    "# )\n",
    "\n",
    "plt.show()"
   ]
  },
  {
   "cell_type": "code",
   "execution_count": null,
   "metadata": {},
   "outputs": [],
   "source": []
  },
  {
   "cell_type": "code",
   "execution_count": 181,
   "metadata": {},
   "outputs": [],
   "source": [
    "# A = tfidf ???"
   ]
  },
  {
   "cell_type": "code",
   "execution_count": null,
   "metadata": {},
   "outputs": [],
   "source": [
    "\"\"\"\n",
    "from sklearn.feature_extraction.text import TfidfVectorizer\n",
    "from sklearn.decomposition import NMF\n",
    "import pandas as pd\n",
    "import clr\n",
    "#PLOTTING TOOLS \n",
    "# import matplotlib.pyplot as PLOTTING\n",
    "import matplotlib.pyplot as plt\n",
    "\n",
    "import warnings\n",
    "warnings.filterwarnings(\"ignore\", category = DeprecationWarning)\n",
    "\n",
    "dataset = pd.read_json('out.json', lines = True)\n",
    "documents = dataset['attachment']\n",
    "\n",
    "no_features = 1000\n",
    "no_topics = 9\n",
    "# print ('Old number of topics: ', no_topics)\n",
    "tfidf_vectorizer = TfidfVectorizer(max_df = 0.95, min_df = 2, max_features = no_features, stop_words = 'english', norm='l2')\n",
    "tfidf = tfidf_vectorizer.fit_transform(documents)\n",
    "tfidf_feature_names = tfidf_vectorizer.get_feature_names()\n",
    "\n",
    "no_topics = tfidf.shape\n",
    "retrain_value = no_topics[0]\n",
    "# print('New number of topics :', retrain_value)\n",
    "\n",
    "nmf = NMF(n_components = retrain_value, random_state = 1, alpha = .1, l1_ratio = .5, init = 'nndsvd').fit(tfidf)\n",
    "\n",
    "def display_topics(model, feature_names, no_top_words):\n",
    "    for topic_idx, topic in enumerate(model.components_):\n",
    "        print (\"Topic %d: \" % (topic_idx))\n",
    "        print (\" \".join([feature_names[i] for i in topic.argsort()[:-no_top_words -1:-1]]))\n",
    "\n",
    "no_top_words = 20\n",
    "display_topics(nmf, tfidf_feature_names, no_top_words)\n",
    "\"\"\""
   ]
  },
  {
   "cell_type": "code",
   "execution_count": 186,
   "metadata": {},
   "outputs": [
    {
     "name": "stdout",
     "output_type": "stream",
     "text": [
      "Applying NMF for k=2 ...\n",
      "Applying NMF for k=3 ...\n",
      "Applying NMF for k=4 ...\n",
      "Applying NMF for k=5 ...\n",
      "Applying NMF for k=6 ...\n",
      "Applying NMF for k=7 ...\n",
      "Applying NMF for k=8 ...\n",
      "Applying NMF for k=9 ...\n",
      "Applying NMF for k=10 ...\n"
     ]
    },
    {
     "ename": "NameError",
     "evalue": "name 'stopwords' is not defined",
     "output_type": "error",
     "traceback": [
      "\u001b[0;31m---------------------------------------------------------------------------\u001b[0m",
      "\u001b[0;31mNameError\u001b[0m                                 Traceback (most recent call last)",
      "\u001b[0;32m<ipython-input-186-f3dd99cba35f>\u001b[0m in \u001b[0;36m<module>\u001b[0;34m\u001b[0m\n\u001b[1;32m     32\u001b[0m \u001b[0;34m\u001b[0m\u001b[0m\n\u001b[1;32m     33\u001b[0m \u001b[0mdocs_raw\u001b[0m \u001b[0;34m=\u001b[0m \u001b[0mtexts\u001b[0m\u001b[0;34m\u001b[0m\u001b[0;34m\u001b[0m\u001b[0m\n\u001b[0;32m---> 34\u001b[0;31m \u001b[0mstop_words\u001b[0m \u001b[0;34m=\u001b[0m \u001b[0mstopwords\u001b[0m\u001b[0;34m\u001b[0m\u001b[0;34m\u001b[0m\u001b[0m\n\u001b[0m\u001b[1;32m     35\u001b[0m \u001b[0;31m# docgen = okenGenerator(docs_raw, stop_words)(docs_raw, stop_words)\u001b[0m\u001b[0;34m\u001b[0m\u001b[0;34m\u001b[0m\u001b[0;34m\u001b[0m\u001b[0m\n\u001b[1;32m     36\u001b[0m \u001b[0mdocgen\u001b[0m \u001b[0;34m=\u001b[0m \u001b[0mTokenGenerator\u001b[0m\u001b[0;34m(\u001b[0m\u001b[0mdocs_raw\u001b[0m\u001b[0;34m,\u001b[0m \u001b[0mstop_words\u001b[0m\u001b[0;34m)\u001b[0m\u001b[0;34m\u001b[0m\u001b[0;34m\u001b[0m\u001b[0m\n",
      "\u001b[0;31mNameError\u001b[0m: name 'stopwords' is not defined"
     ]
    }
   ],
   "source": [
    "kmin, kmax = 2, 10\n",
    "\n",
    "topic_models = []\n",
    "# try each value of k\n",
    "for k in range(kmin,kmax+1):\n",
    "    print(\"Applying NMF for k=%d ...\" % k )\n",
    "    # run NMF\n",
    "    #model = decomposition.NMF( init=\"nndsvd\", n_components=k )\n",
    "    model = NMF( init=\"nndsvd\", n_components=k ) \n",
    "    W = model.fit_transform(tfidf)\n",
    "    # W = model.fit_transform(A)\n",
    "    H = model.components_    \n",
    "    # store for later\n",
    "    topic_models.append( (k,W,H) )\n",
    "\n",
    "class TokenGenerator:\n",
    "    def __init__( self, documents, stopwords ):\n",
    "        self.documents = documents\n",
    "        self.stopwords = stopwords\n",
    "        self.tokenizer = re.compile( r\"(?u)\\b\\w\\w+\\b\" )\n",
    "\n",
    "    def __iter__( self ):\n",
    "        print(\"Building Word2Vec model ...\")\n",
    "        for doc in self.documents:\n",
    "            tokens = []\n",
    "            for tok in self.tokenizer.findall( doc ):\n",
    "                if tok.lower() in self.stopwords:\n",
    "                    tokens.append( \"<stopword>\" )\n",
    "                elif len(tok) >= 2:\n",
    "                    tokens.append( tok.lower() )\n",
    "            yield tokens\n",
    "\n",
    "docs_raw = texts\n",
    "#stop_words = {stopwords}\n",
    "# docgen = okenGenerator(docs_raw, stop_words)(docs_raw, stop_words)\n",
    "docgen = TokenGenerator(docs_raw, stop_words)\n",
    "w2v_model = gensim.models.Word2Vec(docgen, size=500, min_count=20, sg=1)\n",
    "\n",
    "def calculate_coherence( w2v_model, term_rankings ):\n",
    "    overall_coherence = 0.0\n",
    "    for topic_index in range(len(term_rankings)):\n",
    "        # check each pair of terms\n",
    "        pair_scores = []\n",
    "        for pair in combinations( term_rankings[topic_index], 2 ):\n",
    "            #print(str(pair[0]) + \" \" + str(pair[1]))\n",
    "            pair_scores.append( w2v_model.similarity(pair[0], pair[1]))\n",
    "        # get the mean for all pairs in this topic\n",
    "        topic_score = sum(pair_scores) / len(pair_scores)\n",
    "        overall_coherence += topic_score\n",
    "    # get the mean score across all topics\n",
    "    return overall_coherence / len(term_rankings)\n",
    "\n",
    "def get_descriptor( all_terms, H, topic_index, top ):\n",
    "    # reverse sort the values to sort the indices\n",
    "    top_indices = np.argsort( H[topic_index,:] )[::-1]\n",
    "    # now get the terms corresponding to the top-ranked indices\n",
    "    top_terms = []\n",
    "    for term_index in top_indices[0:top]:\n",
    "        top_terms.append( all_terms[term_index] )\n",
    "    return top_terms\n",
    "\n",
    "k_values = []\n",
    "coherences = []\n",
    "for (k,W,H) in topic_models:\n",
    "    # Get all of the topic descriptors - the term_rankings, based on top 10 terms\n",
    "    term_rankings = []\n",
    "    for topic_index in range(k):\n",
    "        term_rankings.append( get_descriptor( terms, H, topic_index, 10 ) )\n",
    "    # Now calculate the coherence based on our Word2vec model\n",
    "    k_values.append( k )\n",
    "    coherences.append( calculate_coherence( w2v_model, term_rankings ) )\n",
    "    print(\"K=%02d: Coherence=%.4f\" % ( k, coherences[-1] ) )\n",
    "\n",
    "%matplotlib inline\n",
    "plt.style.use(\"ggplot\")\n",
    "matplotlib.rcParams.update({\"font.size\": 14})\n",
    "\n",
    "fig = plt.figure(figsize=(13,7))\n",
    "# create the line plot\n",
    "ax = plt.plot( k_values, coherences )\n",
    "plt.xticks(k_values)\n",
    "plt.xlabel(\"Number of Topics\")\n",
    "plt.ylabel(\"Mean Coherence\")\n",
    "# add the points\n",
    "plt.scatter( k_values, coherences, s=120)\n",
    "# find and annotate the maximum point on the plot\n",
    "ymax = max(coherences)\n",
    "xpos = coherences.index(ymax)\n",
    "best_k = k_values[xpos]\n",
    "plt.annotate( \"k=%d\" % best_k, xy=(best_k, ymax), xytext=(best_k, ymax), textcoords=\"offset points\", fontsize=16)\n",
    "# show the plot\n",
    "plt.show()"
   ]
  },
  {
   "cell_type": "code",
   "execution_count": null,
   "metadata": {},
   "outputs": [],
   "source": []
  },
  {
   "cell_type": "code",
   "execution_count": null,
   "metadata": {},
   "outputs": [],
   "source": []
  },
  {
   "cell_type": "code",
   "execution_count": null,
   "metadata": {},
   "outputs": [],
   "source": []
  },
  {
   "cell_type": "markdown",
   "metadata": {},
   "source": [
    "## Step 3: Splitting the articles with a training part and a test part \n",
    "### Is to be doen now because after tfidf application not possible anymore to add the colum \"topic\""
   ]
  },
  {
   "cell_type": "code",
   "execution_count": 39,
   "metadata": {},
   "outputs": [],
   "source": [
    "from sklearn.model_selection import train_test_split"
   ]
  },
  {
   "cell_type": "code",
   "execution_count": 40,
   "metadata": {},
   "outputs": [],
   "source": [
    "articles_train, articles_test = train_test_split(papers2, test_size = 0.25)\n",
    "    "
   ]
  },
  {
   "cell_type": "markdown",
   "metadata": {},
   "source": [
    "## Step 4: Preprocessing with TfidfVectorizer and fit_transform on the training data"
   ]
  },
  {
   "cell_type": "code",
   "execution_count": 41,
   "metadata": {},
   "outputs": [],
   "source": [
    "from sklearn.feature_extraction.text import TfidfVectorizer"
   ]
  },
  {
   "cell_type": "markdown",
   "metadata": {},
   "source": [
    "**`max_df`**` : float in range [0.0, 1.0] or int, default=1.0`<br>\n",
    "When building the vocabulary ignore terms that have a document frequency strictly higher than the given threshold (corpus-specific stop words). If float, the parameter represents a proportion of documents, integer absolute counts. This parameter is ignored if vocabulary is not None.\n",
    "\n",
    "**`min_df`**` : float in range [0.0, 1.0] or int, default=1`<br>\n",
    "When building the vocabulary ignore terms that have a document frequency strictly lower than the given threshold. This value is also called cut-off in the literature. If float, the parameter represents a proportion of documents, integer absolute counts. This parameter is ignored if vocabulary is not None."
   ]
  },
  {
   "cell_type": "code",
   "execution_count": 42,
   "metadata": {},
   "outputs": [],
   "source": [
    "tfidf = TfidfVectorizer(max_df=0.95, min_df=2, stop_words='english')"
   ]
  },
  {
   "cell_type": "markdown",
   "metadata": {},
   "source": [
    "## Step 4.b:  Applying fit_transform on the training data by TfidfVectorizer "
   ]
  },
  {
   "cell_type": "code",
   "execution_count": 43,
   "metadata": {},
   "outputs": [],
   "source": [
    "# dtm_train = tfidf.fit_transform(articles_train['text_cleaned_string'])\n",
    "dtm_train = tfidf.fit_transform(articles_train['text_cleaned_string'])\n",
    "# dtm_train = tfidf.fit_transform(articles_train['text_preprocessed'])\n"
   ]
  },
  {
   "cell_type": "code",
   "execution_count": 44,
   "metadata": {},
   "outputs": [
    {
     "data": {
      "text/plain": [
       "<1219x12426 sparse matrix of type '<class 'numpy.float64'>'\n",
       "\twith 283438 stored elements in Compressed Sparse Row format>"
      ]
     },
     "execution_count": 44,
     "metadata": {},
     "output_type": "execute_result"
    }
   ],
   "source": [
    "dtm_train"
   ]
  },
  {
   "cell_type": "code",
   "execution_count": 45,
   "metadata": {},
   "outputs": [
    {
     "data": {
      "text/plain": [
       "(1219, 12426)"
      ]
     },
     "execution_count": 45,
     "metadata": {},
     "output_type": "execute_result"
    }
   ],
   "source": [
    "dtm_train.shape"
   ]
  },
  {
   "cell_type": "markdown",
   "metadata": {},
   "source": [
    "<h1> <p style=\"color:purple\">Step 5: NMF making the model with the training part of the data (THIS IS THE MODEL) </h1></p>"
   ]
  },
  {
   "cell_type": "markdown",
   "metadata": {},
   "source": [
    "## Step 5.a: Making the model"
   ]
  },
  {
   "cell_type": "code",
   "execution_count": 46,
   "metadata": {},
   "outputs": [],
   "source": [
    "from sklearn.decomposition import NMF"
   ]
  },
  {
   "cell_type": "code",
   "execution_count": 47,
   "metadata": {},
   "outputs": [],
   "source": [
    "nmf_model = NMF(n_components=20,random_state=42)"
   ]
  },
  {
   "cell_type": "code",
   "execution_count": 48,
   "metadata": {},
   "outputs": [],
   "source": [
    "### fit based on the train data"
   ]
  },
  {
   "cell_type": "code",
   "execution_count": 49,
   "metadata": {},
   "outputs": [
    {
     "data": {
      "text/plain": [
       "NMF(n_components=20, random_state=42)"
      ]
     },
     "execution_count": 49,
     "metadata": {},
     "output_type": "execute_result"
    }
   ],
   "source": [
    "# This can take awhile, we're dealing with a large amount of documents!\n",
    "nmf_model.fit(dtm_train)"
   ]
  },
  {
   "cell_type": "code",
   "execution_count": null,
   "metadata": {},
   "outputs": [],
   "source": []
  },
  {
   "cell_type": "code",
   "execution_count": 156,
   "metadata": {},
   "outputs": [
    {
     "name": "stdout",
     "output_type": "stream",
     "text": [
      "Applying NMF for k=2 ...\n"
     ]
    },
    {
     "ename": "ValueError",
     "evalue": "could not convert string to float: 'cybersecurity provider zingbox announce launch new generation cybersecurity solution iot guardian focus service protection solution claim industry offer combination deep learning algorithm discern device unique personality enforce acceptable behaviour -PRON- self - learn approach continually build previous knowledge discover detect defend critical internet thing ( iot ) service datum avoid false positive 999 % accuracy iot guardian work differently traditional -PRON- security solution outmode -PRON- security focus datum protection unable defend diverse set iot device feature variety non - standard customised operating system new iot guardian hand develop fully non - disruptive approach discern device personality monitor activity enforce trust behaviour new device - personality approach conceptualise stanford university zingbox founder address zero - day cyber insider threat eliminate need instal software agent device jerry marshall director information service telecommunication united regional health care system : \" medical device network hospital rigorously monitor -PRON- need solution generate real - time inventory medical device hospital network evaluate risk exposure zingbox solution discover 95 % medical device compare current tool detect 5 % accuracy elaborate device personality allow -PRON- turn zingbox tool regulate medical device behaviour \" interested hear industry leader discuss subject like share -PRON- use - case attend co - locate & big datum expo event upcoming silicon valley london amsterdam learn co - locate iot tech expo blockchain expo cyber security & cloud expo -PRON- explore future enterprise technology place'",
     "output_type": "error",
     "traceback": [
      "\u001b[0;31m---------------------------------------------------------------------------\u001b[0m",
      "\u001b[0;31mValueError\u001b[0m                                Traceback (most recent call last)",
      "\u001b[0;32m<ipython-input-156-f9a913bfe36a>\u001b[0m in \u001b[0;36m<module>\u001b[0;34m\u001b[0m\n\u001b[1;32m      7\u001b[0m     \u001b[0;31m# run NMF\u001b[0m\u001b[0;34m\u001b[0m\u001b[0;34m\u001b[0m\u001b[0;34m\u001b[0m\u001b[0m\n\u001b[1;32m      8\u001b[0m     \u001b[0mmodel\u001b[0m \u001b[0;34m=\u001b[0m \u001b[0mNMF\u001b[0m\u001b[0;34m(\u001b[0m \u001b[0minit\u001b[0m\u001b[0;34m=\u001b[0m\u001b[0;34m\"nndsvd\"\u001b[0m\u001b[0;34m,\u001b[0m \u001b[0mn_components\u001b[0m\u001b[0;34m=\u001b[0m\u001b[0mk\u001b[0m \u001b[0;34m)\u001b[0m\u001b[0;34m\u001b[0m\u001b[0;34m\u001b[0m\u001b[0m\n\u001b[0;32m----> 9\u001b[0;31m     \u001b[0mW\u001b[0m \u001b[0;34m=\u001b[0m \u001b[0mmodel\u001b[0m\u001b[0;34m.\u001b[0m\u001b[0mfit_transform\u001b[0m\u001b[0;34m(\u001b[0m\u001b[0mpapers2\u001b[0m\u001b[0;34m[\u001b[0m\u001b[0;34m'text_cleaned_string'\u001b[0m\u001b[0;34m]\u001b[0m\u001b[0;34m)\u001b[0m\u001b[0;34m\u001b[0m\u001b[0;34m\u001b[0m\u001b[0m\n\u001b[0m\u001b[1;32m     10\u001b[0m     \u001b[0;31m# W = model.fit_transform( A )\u001b[0m\u001b[0;34m\u001b[0m\u001b[0;34m\u001b[0m\u001b[0;34m\u001b[0m\u001b[0m\n\u001b[1;32m     11\u001b[0m     \u001b[0mH\u001b[0m \u001b[0;34m=\u001b[0m \u001b[0mmodel\u001b[0m\u001b[0;34m.\u001b[0m\u001b[0mcomponents_\u001b[0m\u001b[0;34m\u001b[0m\u001b[0;34m\u001b[0m\u001b[0m\n",
      "\u001b[0;32m~/anaconda3/envs/virtualenvchris/lib/python3.7/site-packages/sklearn/decomposition/_nmf.py\u001b[0m in \u001b[0;36mfit_transform\u001b[0;34m(self, X, y, W, H)\u001b[0m\n\u001b[1;32m   1279\u001b[0m         \"\"\"\n\u001b[1;32m   1280\u001b[0m         X = self._validate_data(X, accept_sparse=('csr', 'csc'),\n\u001b[0;32m-> 1281\u001b[0;31m                                 dtype=[np.float64, np.float32])\n\u001b[0m\u001b[1;32m   1282\u001b[0m \u001b[0;34m\u001b[0m\u001b[0m\n\u001b[1;32m   1283\u001b[0m         W, H, n_iter_ = non_negative_factorization(\n",
      "\u001b[0;32m~/anaconda3/envs/virtualenvchris/lib/python3.7/site-packages/sklearn/base.py\u001b[0m in \u001b[0;36m_validate_data\u001b[0;34m(self, X, y, reset, validate_separately, **check_params)\u001b[0m\n\u001b[1;32m    418\u001b[0m                     \u001b[0;34mf\"requires y to be passed, but the target y is None.\"\u001b[0m\u001b[0;34m\u001b[0m\u001b[0;34m\u001b[0m\u001b[0m\n\u001b[1;32m    419\u001b[0m                 )\n\u001b[0;32m--> 420\u001b[0;31m             \u001b[0mX\u001b[0m \u001b[0;34m=\u001b[0m \u001b[0mcheck_array\u001b[0m\u001b[0;34m(\u001b[0m\u001b[0mX\u001b[0m\u001b[0;34m,\u001b[0m \u001b[0;34m**\u001b[0m\u001b[0mcheck_params\u001b[0m\u001b[0;34m)\u001b[0m\u001b[0;34m\u001b[0m\u001b[0;34m\u001b[0m\u001b[0m\n\u001b[0m\u001b[1;32m    421\u001b[0m             \u001b[0mout\u001b[0m \u001b[0;34m=\u001b[0m \u001b[0mX\u001b[0m\u001b[0;34m\u001b[0m\u001b[0;34m\u001b[0m\u001b[0m\n\u001b[1;32m    422\u001b[0m         \u001b[0;32melse\u001b[0m\u001b[0;34m:\u001b[0m\u001b[0;34m\u001b[0m\u001b[0;34m\u001b[0m\u001b[0m\n",
      "\u001b[0;32m~/anaconda3/envs/virtualenvchris/lib/python3.7/site-packages/sklearn/utils/validation.py\u001b[0m in \u001b[0;36minner_f\u001b[0;34m(*args, **kwargs)\u001b[0m\n\u001b[1;32m     70\u001b[0m                           FutureWarning)\n\u001b[1;32m     71\u001b[0m         \u001b[0mkwargs\u001b[0m\u001b[0;34m.\u001b[0m\u001b[0mupdate\u001b[0m\u001b[0;34m(\u001b[0m\u001b[0;34m{\u001b[0m\u001b[0mk\u001b[0m\u001b[0;34m:\u001b[0m \u001b[0marg\u001b[0m \u001b[0;32mfor\u001b[0m \u001b[0mk\u001b[0m\u001b[0;34m,\u001b[0m \u001b[0marg\u001b[0m \u001b[0;32min\u001b[0m \u001b[0mzip\u001b[0m\u001b[0;34m(\u001b[0m\u001b[0msig\u001b[0m\u001b[0;34m.\u001b[0m\u001b[0mparameters\u001b[0m\u001b[0;34m,\u001b[0m \u001b[0margs\u001b[0m\u001b[0;34m)\u001b[0m\u001b[0;34m}\u001b[0m\u001b[0;34m)\u001b[0m\u001b[0;34m\u001b[0m\u001b[0;34m\u001b[0m\u001b[0m\n\u001b[0;32m---> 72\u001b[0;31m         \u001b[0;32mreturn\u001b[0m \u001b[0mf\u001b[0m\u001b[0;34m(\u001b[0m\u001b[0;34m**\u001b[0m\u001b[0mkwargs\u001b[0m\u001b[0;34m)\u001b[0m\u001b[0;34m\u001b[0m\u001b[0;34m\u001b[0m\u001b[0m\n\u001b[0m\u001b[1;32m     73\u001b[0m     \u001b[0;32mreturn\u001b[0m \u001b[0minner_f\u001b[0m\u001b[0;34m\u001b[0m\u001b[0;34m\u001b[0m\u001b[0m\n\u001b[1;32m     74\u001b[0m \u001b[0;34m\u001b[0m\u001b[0m\n",
      "\u001b[0;32m~/anaconda3/envs/virtualenvchris/lib/python3.7/site-packages/sklearn/utils/validation.py\u001b[0m in \u001b[0;36mcheck_array\u001b[0;34m(array, accept_sparse, accept_large_sparse, dtype, order, copy, force_all_finite, ensure_2d, allow_nd, ensure_min_samples, ensure_min_features, estimator)\u001b[0m\n\u001b[1;32m    596\u001b[0m                     \u001b[0marray\u001b[0m \u001b[0;34m=\u001b[0m \u001b[0marray\u001b[0m\u001b[0;34m.\u001b[0m\u001b[0mastype\u001b[0m\u001b[0;34m(\u001b[0m\u001b[0mdtype\u001b[0m\u001b[0;34m,\u001b[0m \u001b[0mcasting\u001b[0m\u001b[0;34m=\u001b[0m\u001b[0;34m\"unsafe\"\u001b[0m\u001b[0;34m,\u001b[0m \u001b[0mcopy\u001b[0m\u001b[0;34m=\u001b[0m\u001b[0;32mFalse\u001b[0m\u001b[0;34m)\u001b[0m\u001b[0;34m\u001b[0m\u001b[0;34m\u001b[0m\u001b[0m\n\u001b[1;32m    597\u001b[0m                 \u001b[0;32melse\u001b[0m\u001b[0;34m:\u001b[0m\u001b[0;34m\u001b[0m\u001b[0;34m\u001b[0m\u001b[0m\n\u001b[0;32m--> 598\u001b[0;31m                     \u001b[0marray\u001b[0m \u001b[0;34m=\u001b[0m \u001b[0mnp\u001b[0m\u001b[0;34m.\u001b[0m\u001b[0masarray\u001b[0m\u001b[0;34m(\u001b[0m\u001b[0marray\u001b[0m\u001b[0;34m,\u001b[0m \u001b[0morder\u001b[0m\u001b[0;34m=\u001b[0m\u001b[0morder\u001b[0m\u001b[0;34m,\u001b[0m \u001b[0mdtype\u001b[0m\u001b[0;34m=\u001b[0m\u001b[0mdtype\u001b[0m\u001b[0;34m)\u001b[0m\u001b[0;34m\u001b[0m\u001b[0;34m\u001b[0m\u001b[0m\n\u001b[0m\u001b[1;32m    599\u001b[0m             \u001b[0;32mexcept\u001b[0m \u001b[0mComplexWarning\u001b[0m\u001b[0;34m:\u001b[0m\u001b[0;34m\u001b[0m\u001b[0;34m\u001b[0m\u001b[0m\n\u001b[1;32m    600\u001b[0m                 raise ValueError(\"Complex data not supported\\n\"\n",
      "\u001b[0;32m~/anaconda3/envs/virtualenvchris/lib/python3.7/site-packages/numpy/core/_asarray.py\u001b[0m in \u001b[0;36masarray\u001b[0;34m(a, dtype, order)\u001b[0m\n\u001b[1;32m     81\u001b[0m \u001b[0;34m\u001b[0m\u001b[0m\n\u001b[1;32m     82\u001b[0m     \"\"\"\n\u001b[0;32m---> 83\u001b[0;31m     \u001b[0;32mreturn\u001b[0m \u001b[0marray\u001b[0m\u001b[0;34m(\u001b[0m\u001b[0ma\u001b[0m\u001b[0;34m,\u001b[0m \u001b[0mdtype\u001b[0m\u001b[0;34m,\u001b[0m \u001b[0mcopy\u001b[0m\u001b[0;34m=\u001b[0m\u001b[0;32mFalse\u001b[0m\u001b[0;34m,\u001b[0m \u001b[0morder\u001b[0m\u001b[0;34m=\u001b[0m\u001b[0morder\u001b[0m\u001b[0;34m)\u001b[0m\u001b[0;34m\u001b[0m\u001b[0;34m\u001b[0m\u001b[0m\n\u001b[0m\u001b[1;32m     84\u001b[0m \u001b[0;34m\u001b[0m\u001b[0m\n\u001b[1;32m     85\u001b[0m \u001b[0;34m\u001b[0m\u001b[0m\n",
      "\u001b[0;32m~/anaconda3/envs/virtualenvchris/lib/python3.7/site-packages/pandas/core/series.py\u001b[0m in \u001b[0;36m__array__\u001b[0;34m(self, dtype)\u001b[0m\n\u001b[1;32m    795\u001b[0m               dtype='datetime64[ns]')\n\u001b[1;32m    796\u001b[0m         \"\"\"\n\u001b[0;32m--> 797\u001b[0;31m         \u001b[0;32mreturn\u001b[0m \u001b[0mnp\u001b[0m\u001b[0;34m.\u001b[0m\u001b[0masarray\u001b[0m\u001b[0;34m(\u001b[0m\u001b[0mself\u001b[0m\u001b[0;34m.\u001b[0m\u001b[0marray\u001b[0m\u001b[0;34m,\u001b[0m \u001b[0mdtype\u001b[0m\u001b[0;34m)\u001b[0m\u001b[0;34m\u001b[0m\u001b[0;34m\u001b[0m\u001b[0m\n\u001b[0m\u001b[1;32m    798\u001b[0m \u001b[0;34m\u001b[0m\u001b[0m\n\u001b[1;32m    799\u001b[0m     \u001b[0;31m# ----------------------------------------------------------------------\u001b[0m\u001b[0;34m\u001b[0m\u001b[0;34m\u001b[0m\u001b[0;34m\u001b[0m\u001b[0m\n",
      "\u001b[0;32m~/anaconda3/envs/virtualenvchris/lib/python3.7/site-packages/numpy/core/_asarray.py\u001b[0m in \u001b[0;36masarray\u001b[0;34m(a, dtype, order)\u001b[0m\n\u001b[1;32m     81\u001b[0m \u001b[0;34m\u001b[0m\u001b[0m\n\u001b[1;32m     82\u001b[0m     \"\"\"\n\u001b[0;32m---> 83\u001b[0;31m     \u001b[0;32mreturn\u001b[0m \u001b[0marray\u001b[0m\u001b[0;34m(\u001b[0m\u001b[0ma\u001b[0m\u001b[0;34m,\u001b[0m \u001b[0mdtype\u001b[0m\u001b[0;34m,\u001b[0m \u001b[0mcopy\u001b[0m\u001b[0;34m=\u001b[0m\u001b[0;32mFalse\u001b[0m\u001b[0;34m,\u001b[0m \u001b[0morder\u001b[0m\u001b[0;34m=\u001b[0m\u001b[0morder\u001b[0m\u001b[0;34m)\u001b[0m\u001b[0;34m\u001b[0m\u001b[0;34m\u001b[0m\u001b[0m\n\u001b[0m\u001b[1;32m     84\u001b[0m \u001b[0;34m\u001b[0m\u001b[0m\n\u001b[1;32m     85\u001b[0m \u001b[0;34m\u001b[0m\u001b[0m\n",
      "\u001b[0;32m~/anaconda3/envs/virtualenvchris/lib/python3.7/site-packages/pandas/core/arrays/numpy_.py\u001b[0m in \u001b[0;36m__array__\u001b[0;34m(self, dtype)\u001b[0m\n\u001b[1;32m    209\u001b[0m \u001b[0;34m\u001b[0m\u001b[0m\n\u001b[1;32m    210\u001b[0m     \u001b[0;32mdef\u001b[0m \u001b[0m__array__\u001b[0m\u001b[0;34m(\u001b[0m\u001b[0mself\u001b[0m\u001b[0;34m,\u001b[0m \u001b[0mdtype\u001b[0m\u001b[0;34m=\u001b[0m\u001b[0;32mNone\u001b[0m\u001b[0;34m)\u001b[0m \u001b[0;34m->\u001b[0m \u001b[0mnp\u001b[0m\u001b[0;34m.\u001b[0m\u001b[0mndarray\u001b[0m\u001b[0;34m:\u001b[0m\u001b[0;34m\u001b[0m\u001b[0;34m\u001b[0m\u001b[0m\n\u001b[0;32m--> 211\u001b[0;31m         \u001b[0;32mreturn\u001b[0m \u001b[0mnp\u001b[0m\u001b[0;34m.\u001b[0m\u001b[0masarray\u001b[0m\u001b[0;34m(\u001b[0m\u001b[0mself\u001b[0m\u001b[0;34m.\u001b[0m\u001b[0m_ndarray\u001b[0m\u001b[0;34m,\u001b[0m \u001b[0mdtype\u001b[0m\u001b[0;34m=\u001b[0m\u001b[0mdtype\u001b[0m\u001b[0;34m)\u001b[0m\u001b[0;34m\u001b[0m\u001b[0;34m\u001b[0m\u001b[0m\n\u001b[0m\u001b[1;32m    212\u001b[0m \u001b[0;34m\u001b[0m\u001b[0m\n\u001b[1;32m    213\u001b[0m     \u001b[0m_HANDLED_TYPES\u001b[0m \u001b[0;34m=\u001b[0m \u001b[0;34m(\u001b[0m\u001b[0mnp\u001b[0m\u001b[0;34m.\u001b[0m\u001b[0mndarray\u001b[0m\u001b[0;34m,\u001b[0m \u001b[0mnumbers\u001b[0m\u001b[0;34m.\u001b[0m\u001b[0mNumber\u001b[0m\u001b[0;34m)\u001b[0m\u001b[0;34m\u001b[0m\u001b[0;34m\u001b[0m\u001b[0m\n",
      "\u001b[0;32m~/anaconda3/envs/virtualenvchris/lib/python3.7/site-packages/numpy/core/_asarray.py\u001b[0m in \u001b[0;36masarray\u001b[0;34m(a, dtype, order)\u001b[0m\n\u001b[1;32m     81\u001b[0m \u001b[0;34m\u001b[0m\u001b[0m\n\u001b[1;32m     82\u001b[0m     \"\"\"\n\u001b[0;32m---> 83\u001b[0;31m     \u001b[0;32mreturn\u001b[0m \u001b[0marray\u001b[0m\u001b[0;34m(\u001b[0m\u001b[0ma\u001b[0m\u001b[0;34m,\u001b[0m \u001b[0mdtype\u001b[0m\u001b[0;34m,\u001b[0m \u001b[0mcopy\u001b[0m\u001b[0;34m=\u001b[0m\u001b[0;32mFalse\u001b[0m\u001b[0;34m,\u001b[0m \u001b[0morder\u001b[0m\u001b[0;34m=\u001b[0m\u001b[0morder\u001b[0m\u001b[0;34m)\u001b[0m\u001b[0;34m\u001b[0m\u001b[0;34m\u001b[0m\u001b[0m\n\u001b[0m\u001b[1;32m     84\u001b[0m \u001b[0;34m\u001b[0m\u001b[0m\n\u001b[1;32m     85\u001b[0m \u001b[0;34m\u001b[0m\u001b[0m\n",
      "\u001b[0;31mValueError\u001b[0m: could not convert string to float: 'cybersecurity provider zingbox announce launch new generation cybersecurity solution iot guardian focus service protection solution claim industry offer combination deep learning algorithm discern device unique personality enforce acceptable behaviour -PRON- self - learn approach continually build previous knowledge discover detect defend critical internet thing ( iot ) service datum avoid false positive 999 % accuracy iot guardian work differently traditional -PRON- security solution outmode -PRON- security focus datum protection unable defend diverse set iot device feature variety non - standard customised operating system new iot guardian hand develop fully non - disruptive approach discern device personality monitor activity enforce trust behaviour new device - personality approach conceptualise stanford university zingbox founder address zero - day cyber insider threat eliminate need instal software agent device jerry marshall director information service telecommunication united regional health care system : \" medical device network hospital rigorously monitor -PRON- need solution generate real - time inventory medical device hospital network evaluate risk exposure zingbox solution discover 95 % medical device compare current tool detect 5 % accuracy elaborate device personality allow -PRON- turn zingbox tool regulate medical device behaviour \" interested hear industry leader discuss subject like share -PRON- use - case attend co - locate & big datum expo event upcoming silicon valley london amsterdam learn co - locate iot tech expo blockchain expo cyber security & cloud expo -PRON- explore future enterprise technology place'"
     ]
    }
   ],
   "source": [
    "kmin, kmax = 2, 30\n",
    "\n",
    "topic_models = []\n",
    "# try each value of k\n",
    "for k in range(kmin,kmax+1):\n",
    "    print(\"Applying NMF for k=%d ...\" % k )\n",
    "    # run NMF\n",
    "    model = NMF( init=\"nndsvd\", n_components=k ) \n",
    "    W = model.fit_transform(papers2['text_cleaned_string'])\n",
    "    # W = model.fit_transform( A )\n",
    "    H = model.components_    \n",
    "    # store for later\n",
    "    topic_models.append( (k,W,H) )\n",
    "\n",
    "class TokenGenerator:\n",
    "    def __init__( self, documents, stopwords ):\n",
    "        self.documents = documents\n",
    "        self.stopwords = stopwords\n",
    "        self.tokenizer = re.compile( r\"(?u)\\b\\w\\w+\\b\" )\n",
    "\n",
    "    def __iter__( self ):\n",
    "        print(\"Building Word2Vec model ...\")\n",
    "        for doc in self.documents:\n",
    "            tokens = []\n",
    "            for tok in self.tokenizer.findall( doc ):\n",
    "                if tok.lower() in self.stopwords:\n",
    "                    tokens.append( \"<stopword>\" )\n",
    "                elif len(tok) >= 2:\n",
    "                    tokens.append( tok.lower() )\n",
    "            yield tokens\n",
    "\n",
    "docgen = TokenGenerator(docs_raw, stop_words)\n",
    "w2v_model = gensim.models.Word2Vec(docgen, size=500, min_count=20, sg=1)\n",
    "\n",
    "def calculate_coherence( w2v_model, term_rankings ):\n",
    "    overall_coherence = 0.0\n",
    "    for topic_index in range(len(term_rankings)):\n",
    "        # check each pair of terms\n",
    "        pair_scores = []\n",
    "        for pair in combinations( term_rankings[topic_index], 2 ):\n",
    "            #print(str(pair[0]) + \" \" + str(pair[1]))\n",
    "            pair_scores.append( w2v_model.similarity(pair[0], pair[1]))\n",
    "        # get the mean for all pairs in this topic\n",
    "        topic_score = sum(pair_scores) / len(pair_scores)\n",
    "        overall_coherence += topic_score\n",
    "    # get the mean score across all topics\n",
    "    return overall_coherence / len(term_rankings)\n",
    "\n",
    "def get_descriptor( all_terms, H, topic_index, top ):\n",
    "    # reverse sort the values to sort the indices\n",
    "    top_indices = np.argsort( H[topic_index,:] )[::-1]\n",
    "    # now get the terms corresponding to the top-ranked indices\n",
    "    top_terms = []\n",
    "    for term_index in top_indices[0:top]:\n",
    "        top_terms.append( all_terms[term_index] )\n",
    "    return top_terms\n",
    "\n",
    "k_values = []\n",
    "coherences = []\n",
    "for (k,W,H) in topic_models:\n",
    "    # Get all of the topic descriptors - the term_rankings, based on top 10 terms\n",
    "    term_rankings = []\n",
    "    for topic_index in range(k):\n",
    "        term_rankings.append( get_descriptor( terms, H, topic_index, 10 ) )\n",
    "    # Now calculate the coherence based on our Word2vec model\n",
    "    k_values.append( k )\n",
    "    coherences.append( calculate_coherence( w2v_model, term_rankings ) )\n",
    "    print(\"K=%02d: Coherence=%.4f\" % ( k, coherences[-1] ) )\n",
    "\n",
    "%matplotlib inline\n",
    "plt.style.use(\"ggplot\")\n",
    "matplotlib.rcParams.update({\"font.size\": 14})\n",
    "\n",
    "fig = plt.figure(figsize=(13,7))\n",
    "# create the line plot\n",
    "ax = plt.plot( k_values, coherences )\n",
    "plt.xticks(k_values)\n",
    "plt.xlabel(\"Number of Topics\")\n",
    "plt.ylabel(\"Mean Coherence\")\n",
    "# add the points\n",
    "plt.scatter( k_values, coherences, s=120)\n",
    "# find and annotate the maximum point on the plot\n",
    "ymax = max(coherences)\n",
    "xpos = coherences.index(ymax)\n",
    "best_k = k_values[xpos]\n",
    "plt.annotate( \"k=%d\" % best_k, xy=(best_k, ymax), xytext=(best_k, ymax), textcoords=\"offset points\", fontsize=16)\n",
    "# show the plot\n",
    "plt.show()"
   ]
  },
  {
   "cell_type": "code",
   "execution_count": null,
   "metadata": {},
   "outputs": [],
   "source": []
  },
  {
   "cell_type": "code",
   "execution_count": null,
   "metadata": {},
   "outputs": [],
   "source": []
  },
  {
   "cell_type": "code",
   "execution_count": null,
   "metadata": {},
   "outputs": [],
   "source": []
  },
  {
   "cell_type": "code",
   "execution_count": null,
   "metadata": {},
   "outputs": [],
   "source": []
  },
  {
   "cell_type": "code",
   "execution_count": null,
   "metadata": {},
   "outputs": [],
   "source": []
  },
  {
   "cell_type": "code",
   "execution_count": null,
   "metadata": {},
   "outputs": [],
   "source": []
  },
  {
   "cell_type": "code",
   "execution_count": null,
   "metadata": {},
   "outputs": [],
   "source": []
  },
  {
   "cell_type": "markdown",
   "metadata": {},
   "source": [
    "## Step 5.b: Saving the model"
   ]
  },
  {
   "cell_type": "code",
   "execution_count": null,
   "metadata": {},
   "outputs": [],
   "source": [
    "import pickle"
   ]
  },
  {
   "cell_type": "code",
   "execution_count": null,
   "metadata": {},
   "outputs": [],
   "source": [
    "# Save to file in the current working directory\n",
    "pkl_filename = \"pickle_model_NLP.pkl\"\n",
    "with open(pkl_filename, 'wb') as file:\n",
    "    pickle.dump(nmf_model, file)"
   ]
  },
  {
   "cell_type": "code",
   "execution_count": null,
   "metadata": {},
   "outputs": [],
   "source": []
  },
  {
   "cell_type": "markdown",
   "metadata": {},
   "source": [
    "## Step 5.c: Displaying Topics"
   ]
  },
  {
   "cell_type": "code",
   "execution_count": null,
   "metadata": {},
   "outputs": [],
   "source": [
    "len(tfidf.get_feature_names())"
   ]
  },
  {
   "cell_type": "code",
   "execution_count": null,
   "metadata": {},
   "outputs": [],
   "source": [
    "import random"
   ]
  },
  {
   "cell_type": "code",
   "execution_count": null,
   "metadata": {},
   "outputs": [],
   "source": [
    "for i in range(10):\n",
    "    random_word_id = random.randint(0, len(tfidf.get_feature_names()))\n",
    "    print(tfidf.get_feature_names()[random_word_id])"
   ]
  },
  {
   "cell_type": "code",
   "execution_count": null,
   "metadata": {},
   "outputs": [],
   "source": [
    "for i in range(10):\n",
    "    random_word_id = random.randint(0, len(tfidf.get_feature_names()))\n",
    "    print(tfidf.get_feature_names()[random_word_id])"
   ]
  },
  {
   "cell_type": "code",
   "execution_count": null,
   "metadata": {},
   "outputs": [],
   "source": [
    "len(nmf_model.components_)"
   ]
  },
  {
   "cell_type": "code",
   "execution_count": null,
   "metadata": {},
   "outputs": [],
   "source": [
    "nmf_model.components_"
   ]
  },
  {
   "cell_type": "code",
   "execution_count": null,
   "metadata": {},
   "outputs": [],
   "source": [
    "len(nmf_model.components_[0])"
   ]
  },
  {
   "cell_type": "code",
   "execution_count": null,
   "metadata": {},
   "outputs": [],
   "source": [
    "single_topic = nmf_model.components_[0]"
   ]
  },
  {
   "cell_type": "code",
   "execution_count": null,
   "metadata": {},
   "outputs": [],
   "source": [
    "# Returns the indices that would sort this array.\n",
    "single_topic.argsort()"
   ]
  },
  {
   "cell_type": "code",
   "execution_count": null,
   "metadata": {},
   "outputs": [],
   "source": [
    "# Word least representative of this topic\n",
    "single_topic[0]"
   ]
  },
  {
   "cell_type": "code",
   "execution_count": null,
   "metadata": {},
   "outputs": [],
   "source": [
    "# Word most representative of this topic\n",
    "single_topic[4197]"
   ]
  },
  {
   "cell_type": "code",
   "execution_count": null,
   "metadata": {},
   "outputs": [],
   "source": [
    "# Top 10 words for this topic:\n",
    "single_topic.argsort()[-10:]"
   ]
  },
  {
   "cell_type": "code",
   "execution_count": null,
   "metadata": {},
   "outputs": [],
   "source": [
    "top_word_indices = single_topic.argsort()[-10:]"
   ]
  },
  {
   "cell_type": "code",
   "execution_count": null,
   "metadata": {},
   "outputs": [],
   "source": [
    "for index in top_word_indices:\n",
    "    print(tfidf.get_feature_names()[index])"
   ]
  },
  {
   "cell_type": "markdown",
   "metadata": {},
   "source": [
    "These look like business articles perhaps... Let's confirm by using .transform() on our vectorized articles to attach a label number. But first, let's view all the 10 topics found."
   ]
  },
  {
   "cell_type": "code",
   "execution_count": null,
   "metadata": {},
   "outputs": [],
   "source": [
    "print(nmf_model.components_)"
   ]
  },
  {
   "cell_type": "code",
   "execution_count": null,
   "metadata": {},
   "outputs": [],
   "source": [
    "for index,topic in enumerate(nmf_model.components_):\n",
    "    print(f'THE TOP 15 WORDS FOR TOPIC #{index}')\n",
    "    print([tfidf.get_feature_names()[i] for i in topic.argsort()[-15:]])\n",
    "    print([topic[i] for i in topic.argsort()[-15:]])\n",
    "    print('\\n')"
   ]
  },
  {
   "cell_type": "code",
   "execution_count": null,
   "metadata": {},
   "outputs": [],
   "source": [
    "dfs = []\n",
    "for index,topic in enumerate(nmf_model.components_):\n",
    "#    print(f'THE TOP 15 WORDS FOR TOPIC #{index}')\n",
    "    names = [tfidf.get_feature_names()[i] for i in topic.argsort()[-15:]]\n",
    "    weight = [topic[i] for i in topic.argsort()[-15:]]\n",
    "    d = {'Names' : names, 'Weight' : weight}\n",
    "    df = pd.DataFrame(d)\n",
    "    df = df.sort_values(by='Weight', ascending=False)\n",
    "    dfs.append(df)\n"
   ]
  },
  {
   "cell_type": "code",
   "execution_count": null,
   "metadata": {},
   "outputs": [],
   "source": [
    "dfs[0].head(5)"
   ]
  },
  {
   "cell_type": "markdown",
   "metadata": {},
   "source": [
    "# Attaching Discovered Topic Labels to Original Articles"
   ]
  },
  {
   "cell_type": "code",
   "execution_count": null,
   "metadata": {},
   "outputs": [],
   "source": [
    "articles_train.shape"
   ]
  },
  {
   "cell_type": "code",
   "execution_count": null,
   "metadata": {},
   "outputs": [],
   "source": [
    "articles_test.shape"
   ]
  },
  {
   "cell_type": "code",
   "execution_count": null,
   "metadata": {},
   "outputs": [],
   "source": []
  },
  {
   "cell_type": "markdown",
   "metadata": {},
   "source": [
    "### transform based on the train data"
   ]
  },
  {
   "cell_type": "code",
   "execution_count": null,
   "metadata": {},
   "outputs": [],
   "source": [
    "topic_results_train = nmf_model.transform(dtm_train)"
   ]
  },
  {
   "cell_type": "code",
   "execution_count": null,
   "metadata": {},
   "outputs": [],
   "source": [
    "topic_results_train.shape"
   ]
  },
  {
   "cell_type": "code",
   "execution_count": null,
   "metadata": {},
   "outputs": [],
   "source": [
    "topic_results_train[0]"
   ]
  },
  {
   "cell_type": "code",
   "execution_count": null,
   "metadata": {},
   "outputs": [],
   "source": [
    "topic_results_train[0].round(2)"
   ]
  },
  {
   "cell_type": "code",
   "execution_count": null,
   "metadata": {},
   "outputs": [],
   "source": [
    "topic_results_train[0].argmax()"
   ]
  },
  {
   "cell_type": "markdown",
   "metadata": {},
   "source": [
    "This means that our model thinks that the first article belongs to topic #1."
   ]
  },
  {
   "cell_type": "markdown",
   "metadata": {},
   "source": [
    "### Combining with Original Data"
   ]
  },
  {
   "cell_type": "code",
   "execution_count": null,
   "metadata": {},
   "outputs": [],
   "source": [
    "papers2.head()"
   ]
  },
  {
   "cell_type": "code",
   "execution_count": null,
   "metadata": {},
   "outputs": [],
   "source": [
    "papers2.tail()"
   ]
  },
  {
   "cell_type": "code",
   "execution_count": null,
   "metadata": {},
   "outputs": [],
   "source": [
    "topic_results_train.argmax(axis=1)"
   ]
  },
  {
   "cell_type": "code",
   "execution_count": null,
   "metadata": {},
   "outputs": [],
   "source": [
    "articles_train['Topic'] = topic_results_train.argmax(axis=1)"
   ]
  },
  {
   "cell_type": "code",
   "execution_count": null,
   "metadata": {},
   "outputs": [],
   "source": [
    "print(articles_train)"
   ]
  },
  {
   "cell_type": "markdown",
   "metadata": {},
   "source": [
    "## <p style=\"color:purple\">Step 6: Using the trained model to define the topics on an imported PDF-file </p>"
   ]
  },
  {
   "cell_type": "markdown",
   "metadata": {},
   "source": [
    "# Step X: topic results with the PDF-file"
   ]
  },
  {
   "cell_type": "code",
   "execution_count": null,
   "metadata": {},
   "outputs": [],
   "source": []
  },
  {
   "cell_type": "markdown",
   "metadata": {},
   "source": [
    "## Step X.a:  Importing PDF file"
   ]
  },
  {
   "cell_type": "code",
   "execution_count": null,
   "metadata": {},
   "outputs": [],
   "source": [
    "# note the capitalization\n",
    "import PyPDF2\n",
    "\n",
    "from PyPDF2 import PdfFileReader\n",
    "\n",
    "import os\n",
    "# import str"
   ]
  },
  {
   "cell_type": "code",
   "execution_count": null,
   "metadata": {},
   "outputs": [],
   "source": [
    "os.chdir('../reports')\n",
    "\n",
    "cwd = os.getcwd()\n",
    "print(cwd)"
   ]
  },
  {
   "cell_type": "code",
   "execution_count": null,
   "metadata": {},
   "outputs": [],
   "source": [
    "url_MGI = 'MGI-The-Age-of-Analytics-Full-report.pdf'\n",
    "url_DS_use_cases ='The Big Book of Data Science Use Cases.pdf'\n",
    "url_big_Data = 'Using big data to make better pricing decisions.pdf'\n",
    "url_AI_strat = 'aiadoptionstrategies-march2019pdf.pdf'\n",
    "url_main = 'main.pdf'"
   ]
  },
  {
   "cell_type": "code",
   "execution_count": null,
   "metadata": {},
   "outputs": [],
   "source": []
  },
  {
   "cell_type": "code",
   "execution_count": null,
   "metadata": {},
   "outputs": [],
   "source": [
    "# pdf file object\n",
    "# you can find find the pdf file with complete code in below\n",
    "\n",
    "\n",
    "def extract_text_from_pdf(url):\n",
    "    pdfFileObj = open(url, 'rb')\n",
    "    pdfReader = PyPDF2.PdfFileReader(pdfFileObj)\n",
    "    text = ''\n",
    "    for i in range(0, pdfReader.numPages):\n",
    "        pageObj = pdfReader.getPage(i)\n",
    "        text += pageObj.extractText()\n",
    "    f.close()\n",
    "    return text\n",
    "# pdfFileObj.close()\n",
    "\n",
    "# number of pages in pdf\n",
    "# print(pdfReader.numPages)\n",
    "# print(text)\n"
   ]
  },
  {
   "cell_type": "code",
   "execution_count": null,
   "metadata": {},
   "outputs": [],
   "source": [
    "text = extract_text_from_pdf(url_MGI)\n"
   ]
  },
  {
   "cell_type": "code",
   "execution_count": null,
   "metadata": {},
   "outputs": [],
   "source": []
  },
  {
   "cell_type": "code",
   "execution_count": null,
   "metadata": {},
   "outputs": [],
   "source": [
    "print(text)"
   ]
  },
  {
   "cell_type": "markdown",
   "metadata": {},
   "source": [
    "## Step X.b:  Applying data cleaning on the single imported file"
   ]
  },
  {
   "cell_type": "code",
   "execution_count": null,
   "metadata": {},
   "outputs": [],
   "source": [
    "import io"
   ]
  },
  {
   "cell_type": "code",
   "execution_count": null,
   "metadata": {},
   "outputs": [],
   "source": [
    "data = io.StringIO(text)"
   ]
  },
  {
   "cell_type": "code",
   "execution_count": null,
   "metadata": {},
   "outputs": [],
   "source": []
  },
  {
   "cell_type": "code",
   "execution_count": null,
   "metadata": {},
   "outputs": [],
   "source": [
    "text_dataframe = pd.DataFrame(data)\n",
    "\n",
    "#text_dataframe.rename(columns = {'0':'ID', '1':'Content'}, inplace = True) \n",
    "\n",
    "text_dataframe.columns = ['content'] "
   ]
  },
  {
   "cell_type": "code",
   "execution_count": null,
   "metadata": {},
   "outputs": [],
   "source": [
    "print(text_dataframe)"
   ]
  },
  {
   "cell_type": "code",
   "execution_count": null,
   "metadata": {},
   "outputs": [],
   "source": [
    "text_dataframe.info()"
   ]
  },
  {
   "cell_type": "code",
   "execution_count": null,
   "metadata": {},
   "outputs": [],
   "source": [
    "print(text_dataframe)"
   ]
  },
  {
   "cell_type": "code",
   "execution_count": null,
   "metadata": {},
   "outputs": [],
   "source": [
    "\n",
    "# Remove punctuation\n",
    "text_dataframe['content_preprocessed'] = \\\n",
    "text_dataframe['content'].map(lambda x: re.sub('\\s+', ' ', x))\n",
    "\n",
    "text_dataframe['content_preprocessed'] = \\\n",
    "text_dataframe['content_preprocessed'].map(lambda x: re.sub('[\\n]', ' ', x))\n",
    "\n",
    "text_dataframe['content_preprocessed'] = \\\n",
    "text_dataframe['content_preprocessed'].map(lambda x: re.sub('[\\']', ' ', x))\n",
    "\n",
    "text_dataframe['content_preprocessed'] = \\\n",
    "text_dataframe['content_preprocessed'].map(lambda x: re.sub('[,\\.!?]', ' ', x))\n",
    "\n",
    "# Convert the titles to lowercase\n",
    "text_dataframe['content_preprocessed'] = \\\n",
    "text_dataframe['content_preprocessed'].map(lambda x: x.lower())\n",
    "\n",
    "# Print out the first rows of papers\n",
    "text_dataframe['content_preprocessed'].head()"
   ]
  },
  {
   "cell_type": "code",
   "execution_count": null,
   "metadata": {},
   "outputs": [],
   "source": [
    "text_dataframe['content_lemmatized'] = \\\n",
    "text_dataframe['content_preprocessed'].apply(lambda x: lemmatizing_article(x))"
   ]
  },
  {
   "cell_type": "code",
   "execution_count": null,
   "metadata": {},
   "outputs": [],
   "source": [
    "text_dataframe['content_lemmatized_string'] = \\\n",
    "text_dataframe['content_lemmatized'].apply(lambda x: listToString(x))"
   ]
  },
  {
   "cell_type": "code",
   "execution_count": null,
   "metadata": {},
   "outputs": [],
   "source": [
    "text_dataframe['content_stopwords_stripped'] = \\\n",
    "text_dataframe['content_lemmatized_string'].apply(lambda x: removing_stopwords(x))"
   ]
  },
  {
   "cell_type": "code",
   "execution_count": null,
   "metadata": {},
   "outputs": [],
   "source": [
    "text_dataframe['content_cleaned'] = \\\n",
    "text_dataframe['content_stopwords_stripped'].apply(lambda x: listToString(x))"
   ]
  },
  {
   "cell_type": "code",
   "execution_count": null,
   "metadata": {},
   "outputs": [],
   "source": []
  },
  {
   "cell_type": "code",
   "execution_count": null,
   "metadata": {},
   "outputs": [],
   "source": []
  },
  {
   "cell_type": "markdown",
   "metadata": {},
   "source": [
    "## Step X.c:  Applying transform on the test article string by TfidfVectorizer"
   ]
  },
  {
   "cell_type": "code",
   "execution_count": null,
   "metadata": {},
   "outputs": [],
   "source": []
  },
  {
   "cell_type": "code",
   "execution_count": null,
   "metadata": {},
   "outputs": [],
   "source": [
    "## hereunder in the original train alternative fi_transform is used but here transform only, otherwise the shape is no\n",
    "## corresponding with the topic_results of train data"
   ]
  },
  {
   "cell_type": "code",
   "execution_count": null,
   "metadata": {},
   "outputs": [],
   "source": [
    "\"\"\"\n",
    "with open(\"../message.txt\", \"r\") as f:\n",
    "    \n",
    "    single_article = f.read()\n",
    "    #single_article = f\n",
    "    \n",
    "print(single_article)\n",
    "\n",
    "\"\"\"\n",
    "\n"
   ]
  },
  {
   "cell_type": "code",
   "execution_count": null,
   "metadata": {},
   "outputs": [],
   "source": [
    "# article = str(single_article)"
   ]
  },
  {
   "cell_type": "code",
   "execution_count": null,
   "metadata": {},
   "outputs": [],
   "source": []
  },
  {
   "cell_type": "code",
   "execution_count": null,
   "metadata": {},
   "outputs": [],
   "source": [
    "# dtm_test = tfidf.transform(articles_test['text_preprocessed'])\n",
    "# dtm_test = tfidf.transform(article).toarray()\n",
    "dtm_test = tfidf.transform(text_dataframe['content_cleaned'])\n"
   ]
  },
  {
   "cell_type": "code",
   "execution_count": null,
   "metadata": {},
   "outputs": [],
   "source": [
    "dtm_test.shape"
   ]
  },
  {
   "cell_type": "markdown",
   "metadata": {},
   "source": [
    "## topics with the test data"
   ]
  },
  {
   "cell_type": "markdown",
   "metadata": {},
   "source": [
    "### transform based on the test data"
   ]
  },
  {
   "cell_type": "code",
   "execution_count": null,
   "metadata": {},
   "outputs": [],
   "source": [
    "topic_results_test = nmf_model.transform(dtm_test)"
   ]
  },
  {
   "cell_type": "code",
   "execution_count": null,
   "metadata": {},
   "outputs": [],
   "source": [
    "topic_results_test.shape"
   ]
  },
  {
   "cell_type": "code",
   "execution_count": null,
   "metadata": {},
   "outputs": [],
   "source": [
    "topic_results_test[0]"
   ]
  },
  {
   "cell_type": "code",
   "execution_count": null,
   "metadata": {},
   "outputs": [],
   "source": [
    "print(topic_results_test[0])"
   ]
  },
  {
   "cell_type": "code",
   "execution_count": null,
   "metadata": {},
   "outputs": [],
   "source": [
    "topic_results_test[0].round(4)"
   ]
  },
  {
   "cell_type": "markdown",
   "metadata": {},
   "source": [
    "### the string of the file is most near topic number 11"
   ]
  },
  {
   "cell_type": "code",
   "execution_count": null,
   "metadata": {},
   "outputs": [],
   "source": [
    "topic_results_test[0].argmax()"
   ]
  },
  {
   "cell_type": "code",
   "execution_count": null,
   "metadata": {},
   "outputs": [],
   "source": [
    "dtm_test.shape"
   ]
  },
  {
   "cell_type": "code",
   "execution_count": null,
   "metadata": {},
   "outputs": [],
   "source": []
  },
  {
   "cell_type": "code",
   "execution_count": null,
   "metadata": {},
   "outputs": [],
   "source": []
  },
  {
   "cell_type": "code",
   "execution_count": null,
   "metadata": {},
   "outputs": [],
   "source": []
  }
 ],
 "metadata": {
  "kernelspec": {
   "display_name": "Python 3",
   "language": "python",
   "name": "python3"
  },
  "language_info": {
   "codemirror_mode": {
    "name": "ipython",
    "version": 3
   },
   "file_extension": ".py",
   "mimetype": "text/x-python",
   "name": "python",
   "nbconvert_exporter": "python",
   "pygments_lexer": "ipython3",
   "version": "3.7.9"
  }
 },
 "nbformat": 4,
 "nbformat_minor": 2
}
